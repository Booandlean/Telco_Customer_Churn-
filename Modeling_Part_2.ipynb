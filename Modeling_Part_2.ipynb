{
 "cells": [
  {
   "cell_type": "markdown",
   "metadata": {},
   "source": [
    "## Imports"
   ]
  },
  {
   "cell_type": "code",
   "execution_count": 1,
   "metadata": {},
   "outputs": [],
   "source": [
    "import pandas as pd\n",
    "import numpy as np\n",
    "from scipy import stats\n",
    "import seaborn as sns\n",
    "import matplotlib.pyplot as plt\n",
    "\n",
    "#Scikit learn imports:\n",
    "from sklearn.preprocessing import LabelEncoder\n",
    "from sklearn.preprocessing import OneHotEncoder\n",
    "from sklearn.preprocessing import StandardScaler\n",
    "\n",
    "from sklearn.ensemble import RandomForestClassifier\n",
    "from sklearn.tree import DecisionTreeClassifier\n",
    "from sklearn import neighbors, metrics\n",
    "from sklearn.metrics import precision_score, recall_score, accuracy_score, f1_score\n",
    "from sklearn.metrics import confusion_matrix\n",
    "\n",
    "from sklearn.model_selection import cross_val_score\n",
    "from sklearn.model_selection import train_test_split"
   ]
  },
  {
   "cell_type": "markdown",
   "metadata": {},
   "source": [
    "## Data Prep"
   ]
  },
  {
   "cell_type": "code",
   "execution_count": 2,
   "metadata": {},
   "outputs": [],
   "source": [
    "from src.dataprep import prep_df"
   ]
  },
  {
   "cell_type": "code",
   "execution_count": 3,
   "metadata": {},
   "outputs": [],
   "source": [
    "df = prep_df()\n",
    "df.dropna(inplace = True)"
   ]
  },
  {
   "cell_type": "code",
   "execution_count": 4,
   "metadata": {},
   "outputs": [
    {
     "data": {
      "text/html": [
       "<div>\n",
       "<style scoped>\n",
       "    .dataframe tbody tr th:only-of-type {\n",
       "        vertical-align: middle;\n",
       "    }\n",
       "\n",
       "    .dataframe tbody tr th {\n",
       "        vertical-align: top;\n",
       "    }\n",
       "\n",
       "    .dataframe thead th {\n",
       "        text-align: right;\n",
       "    }\n",
       "</style>\n",
       "<table border=\"1\" class=\"dataframe\">\n",
       "  <thead>\n",
       "    <tr style=\"text-align: right;\">\n",
       "      <th></th>\n",
       "      <th>gender</th>\n",
       "      <th>SeniorCitizen</th>\n",
       "      <th>Partner</th>\n",
       "      <th>Dependents</th>\n",
       "      <th>PhoneService</th>\n",
       "      <th>MultipleLines</th>\n",
       "      <th>InternetService</th>\n",
       "      <th>OnlineSecurity</th>\n",
       "      <th>OnlineBackup</th>\n",
       "      <th>DeviceProtection</th>\n",
       "      <th>TechSupport</th>\n",
       "      <th>StreamingTV</th>\n",
       "      <th>StreamingMovies</th>\n",
       "      <th>Contract</th>\n",
       "      <th>PaperlessBilling</th>\n",
       "      <th>PaymentMethod</th>\n",
       "      <th>Churn</th>\n",
       "      <th>tenure</th>\n",
       "      <th>MonthlyCharges</th>\n",
       "      <th>TotalCharges</th>\n",
       "    </tr>\n",
       "  </thead>\n",
       "  <tbody>\n",
       "    <tr>\n",
       "      <td>0</td>\n",
       "      <td>0</td>\n",
       "      <td>0</td>\n",
       "      <td>1</td>\n",
       "      <td>0</td>\n",
       "      <td>0</td>\n",
       "      <td>1</td>\n",
       "      <td>0</td>\n",
       "      <td>0</td>\n",
       "      <td>2</td>\n",
       "      <td>0</td>\n",
       "      <td>0</td>\n",
       "      <td>0</td>\n",
       "      <td>0</td>\n",
       "      <td>0</td>\n",
       "      <td>1</td>\n",
       "      <td>2</td>\n",
       "      <td>0</td>\n",
       "      <td>-1.280248</td>\n",
       "      <td>-1.161694</td>\n",
       "      <td>-0.994194</td>\n",
       "    </tr>\n",
       "    <tr>\n",
       "      <td>1</td>\n",
       "      <td>1</td>\n",
       "      <td>0</td>\n",
       "      <td>0</td>\n",
       "      <td>0</td>\n",
       "      <td>1</td>\n",
       "      <td>0</td>\n",
       "      <td>0</td>\n",
       "      <td>2</td>\n",
       "      <td>0</td>\n",
       "      <td>2</td>\n",
       "      <td>0</td>\n",
       "      <td>0</td>\n",
       "      <td>0</td>\n",
       "      <td>1</td>\n",
       "      <td>0</td>\n",
       "      <td>3</td>\n",
       "      <td>0</td>\n",
       "      <td>0.064303</td>\n",
       "      <td>-0.260878</td>\n",
       "      <td>-0.173740</td>\n",
       "    </tr>\n",
       "    <tr>\n",
       "      <td>2</td>\n",
       "      <td>1</td>\n",
       "      <td>0</td>\n",
       "      <td>0</td>\n",
       "      <td>0</td>\n",
       "      <td>1</td>\n",
       "      <td>0</td>\n",
       "      <td>0</td>\n",
       "      <td>2</td>\n",
       "      <td>2</td>\n",
       "      <td>0</td>\n",
       "      <td>0</td>\n",
       "      <td>0</td>\n",
       "      <td>0</td>\n",
       "      <td>0</td>\n",
       "      <td>1</td>\n",
       "      <td>3</td>\n",
       "      <td>1</td>\n",
       "      <td>-1.239504</td>\n",
       "      <td>-0.363923</td>\n",
       "      <td>-0.959649</td>\n",
       "    </tr>\n",
       "    <tr>\n",
       "      <td>3</td>\n",
       "      <td>1</td>\n",
       "      <td>0</td>\n",
       "      <td>0</td>\n",
       "      <td>0</td>\n",
       "      <td>0</td>\n",
       "      <td>1</td>\n",
       "      <td>0</td>\n",
       "      <td>2</td>\n",
       "      <td>0</td>\n",
       "      <td>2</td>\n",
       "      <td>2</td>\n",
       "      <td>0</td>\n",
       "      <td>0</td>\n",
       "      <td>1</td>\n",
       "      <td>0</td>\n",
       "      <td>0</td>\n",
       "      <td>0</td>\n",
       "      <td>0.512486</td>\n",
       "      <td>-0.747850</td>\n",
       "      <td>-0.195248</td>\n",
       "    </tr>\n",
       "    <tr>\n",
       "      <td>4</td>\n",
       "      <td>0</td>\n",
       "      <td>0</td>\n",
       "      <td>0</td>\n",
       "      <td>0</td>\n",
       "      <td>1</td>\n",
       "      <td>0</td>\n",
       "      <td>1</td>\n",
       "      <td>0</td>\n",
       "      <td>0</td>\n",
       "      <td>0</td>\n",
       "      <td>0</td>\n",
       "      <td>0</td>\n",
       "      <td>0</td>\n",
       "      <td>0</td>\n",
       "      <td>1</td>\n",
       "      <td>2</td>\n",
       "      <td>1</td>\n",
       "      <td>-1.239504</td>\n",
       "      <td>0.196178</td>\n",
       "      <td>-0.940457</td>\n",
       "    </tr>\n",
       "  </tbody>\n",
       "</table>\n",
       "</div>"
      ],
      "text/plain": [
       "   gender  SeniorCitizen  Partner  Dependents  PhoneService  MultipleLines  \\\n",
       "0       0              0        1           0             0              1   \n",
       "1       1              0        0           0             1              0   \n",
       "2       1              0        0           0             1              0   \n",
       "3       1              0        0           0             0              1   \n",
       "4       0              0        0           0             1              0   \n",
       "\n",
       "   InternetService  OnlineSecurity  OnlineBackup  DeviceProtection  \\\n",
       "0                0               0             2                 0   \n",
       "1                0               2             0                 2   \n",
       "2                0               2             2                 0   \n",
       "3                0               2             0                 2   \n",
       "4                1               0             0                 0   \n",
       "\n",
       "   TechSupport  StreamingTV  StreamingMovies  Contract  PaperlessBilling  \\\n",
       "0            0            0                0         0                 1   \n",
       "1            0            0                0         1                 0   \n",
       "2            0            0                0         0                 1   \n",
       "3            2            0                0         1                 0   \n",
       "4            0            0                0         0                 1   \n",
       "\n",
       "   PaymentMethod  Churn    tenure  MonthlyCharges  TotalCharges  \n",
       "0              2      0 -1.280248       -1.161694     -0.994194  \n",
       "1              3      0  0.064303       -0.260878     -0.173740  \n",
       "2              3      1 -1.239504       -0.363923     -0.959649  \n",
       "3              0      0  0.512486       -0.747850     -0.195248  \n",
       "4              2      1 -1.239504        0.196178     -0.940457  "
      ]
     },
     "execution_count": 4,
     "metadata": {},
     "output_type": "execute_result"
    }
   ],
   "source": [
    "df.head()"
   ]
  },
  {
   "cell_type": "code",
   "execution_count": 5,
   "metadata": {},
   "outputs": [],
   "source": [
    "X = df.drop(['Churn'], axis = 1)\n",
    "y = df['Churn']\n",
    "X_train, X_test, y_train, y_test = train_test_split(X, y, test_size = .2, random_state = 7)\n",
    "X_t, X_val, y_t, y_val = train_test_split(X_train, y_train, test_size = .2, random_state = 7)"
   ]
  },
  {
   "cell_type": "markdown",
   "metadata": {},
   "source": [
    "### KNN"
   ]
  },
  {
   "cell_type": "markdown",
   "metadata": {},
   "source": [
    "For KNN I am planning on messing with the n_neighbors and p parameters to see if I can do better than the default model\n",
    "\n",
    "I'm going to start with n_neigbors and then mess with p"
   ]
  },
  {
   "cell_type": "code",
   "execution_count": 29,
   "metadata": {},
   "outputs": [
    {
     "name": "stdout",
     "output_type": "stream",
     "text": [
      "Train:\n",
      "0.8535173642030276\n",
      "Val:\n",
      "0.7295373665480427\n"
     ]
    }
   ],
   "source": [
    "knn = neighbors.KNeighborsClassifier(n_neighbors = 2, p = 2)\n",
    "knn.fit(X_t, y_t)\n",
    "print(\"Train:\")\n",
    "print(knn.score(X_t, y_t))\n",
    "print(\"Val:\")\n",
    "print(knn.score(X_val, y_val))"
   ]
  },
  {
   "cell_type": "code",
   "execution_count": 30,
   "metadata": {},
   "outputs": [
    {
     "name": "stdout",
     "output_type": "stream",
     "text": [
      "Train:\n",
      "0.8555209260908282\n",
      "Val:\n",
      "0.7277580071174378\n"
     ]
    }
   ],
   "source": [
    "knn = neighbors.KNeighborsClassifier(n_neighbors = 3, p = 2)\n",
    "knn.fit(X_t, y_t)\n",
    "print(\"Train:\")\n",
    "print(knn.score(X_t, y_t))\n",
    "print(\"Val:\")\n",
    "print(knn.score(X_val, y_val))"
   ]
  },
  {
   "cell_type": "code",
   "execution_count": 31,
   "metadata": {},
   "outputs": [
    {
     "name": "stdout",
     "output_type": "stream",
     "text": [
      "Train:\n",
      "0.8078806767586821\n",
      "Val:\n",
      "0.744661921708185\n"
     ]
    }
   ],
   "source": [
    "knn = neighbors.KNeighborsClassifier(n_neighbors = 7, p = 2)\n",
    "knn.fit(X_t, y_t)\n",
    "print(\"Train:\")\n",
    "print(knn.score(X_t, y_t))\n",
    "print(\"Val:\")\n",
    "print(knn.score(X_val, y_val))"
   ]
  },
  {
   "cell_type": "code",
   "execution_count": 32,
   "metadata": {},
   "outputs": [
    {
     "name": "stdout",
     "output_type": "stream",
     "text": [
      "Train:\n",
      "0.7931878895814782\n",
      "Val:\n",
      "0.7562277580071174\n"
     ]
    }
   ],
   "source": [
    "knn = neighbors.KNeighborsClassifier(n_neighbors = 10, p = 2)\n",
    "knn.fit(X_t, y_t)\n",
    "print(\"Train:\")\n",
    "print(knn.score(X_t, y_t))\n",
    "print(\"Val:\")\n",
    "print(knn.score(X_val, y_val))"
   ]
  },
  {
   "cell_type": "code",
   "execution_count": 33,
   "metadata": {},
   "outputs": [
    {
     "name": "stdout",
     "output_type": "stream",
     "text": [
      "Train:\n",
      "0.792520035618878\n",
      "Val:\n",
      "0.7544483985765125\n"
     ]
    }
   ],
   "source": [
    "knn = neighbors.KNeighborsClassifier(n_neighbors = 12, p = 2)\n",
    "knn.fit(X_t, y_t)\n",
    "print(\"Train:\")\n",
    "print(knn.score(X_t, y_t))\n",
    "print(\"Val:\")\n",
    "print(knn.score(X_val, y_val))"
   ]
  },
  {
   "cell_type": "code",
   "execution_count": 34,
   "metadata": {},
   "outputs": [
    {
     "name": "stdout",
     "output_type": "stream",
     "text": [
      "Train:\n",
      "0.7896260017809439\n",
      "Val:\n",
      "0.7633451957295374\n"
     ]
    }
   ],
   "source": [
    "knn = neighbors.KNeighborsClassifier(n_neighbors = 11, p = 2)\n",
    "knn.fit(X_t, y_t)\n",
    "print(\"Train:\")\n",
    "print(knn.score(X_t, y_t))\n",
    "print(\"Val:\")\n",
    "print(knn.score(X_val, y_val))"
   ]
  },
  {
   "cell_type": "markdown",
   "metadata": {},
   "source": [
    "n = 11 seems to be working well, now to mess with p"
   ]
  },
  {
   "cell_type": "code",
   "execution_count": 35,
   "metadata": {},
   "outputs": [
    {
     "name": "stdout",
     "output_type": "stream",
     "text": [
      "Train:\n",
      "0.8145592163846839\n",
      "Val:\n",
      "0.7491103202846975\n"
     ]
    }
   ],
   "source": [
    "knn = neighbors.KNeighborsClassifier(n_neighbors = 5, p = 3)\n",
    "knn.fit(X_t, y_t)\n",
    "print(\"Train:\")\n",
    "print(knn.score(X_t, y_t))\n",
    "print(\"Val:\")\n",
    "print(knn.score(X_val, y_val))"
   ]
  },
  {
   "cell_type": "code",
   "execution_count": 36,
   "metadata": {},
   "outputs": [
    {
     "name": "stdout",
     "output_type": "stream",
     "text": [
      "Train:\n",
      "0.8141139804096171\n",
      "Val:\n",
      "0.748220640569395\n"
     ]
    }
   ],
   "source": [
    "knn = neighbors.KNeighborsClassifier(n_neighbors = 5, p = 5)\n",
    "knn.fit(X_t, y_t)\n",
    "print(\"Train:\")\n",
    "print(knn.score(X_t, y_t))\n",
    "print(\"Val:\")\n",
    "print(knn.score(X_val, y_val))"
   ]
  },
  {
   "cell_type": "code",
   "execution_count": 37,
   "metadata": {},
   "outputs": [
    {
     "name": "stdout",
     "output_type": "stream",
     "text": [
      "Train:\n",
      "0.8243544078361532\n",
      "Val:\n",
      "0.7526690391459074\n"
     ]
    }
   ],
   "source": [
    "knn = neighbors.KNeighborsClassifier(n_neighbors = 5, p = 1)\n",
    "knn.fit(X_t, y_t)\n",
    "print(\"Train:\")\n",
    "print(knn.score(X_t, y_t))\n",
    "print(\"Val:\")\n",
    "print(knn.score(X_val, y_val))"
   ]
  },
  {
   "cell_type": "markdown",
   "metadata": {},
   "source": [
    "p = 1 did a tiny bit better than p >= 2, now for n = 11, p = 1"
   ]
  },
  {
   "cell_type": "code",
   "execution_count": 40,
   "metadata": {},
   "outputs": [
    {
     "name": "stdout",
     "output_type": "stream",
     "text": [
      "Train:\n",
      "0.8018699910952805\n",
      "Val:\n",
      "0.7669039145907474\n"
     ]
    }
   ],
   "source": [
    "knn = neighbors.KNeighborsClassifier(n_neighbors = 11, p = 1)\n",
    "knn.fit(X_t, y_t)\n",
    "print(\"Train:\")\n",
    "print(knn.score(X_t, y_t))\n",
    "print(\"Val:\")\n",
    "print(knn.score(X_val, y_val))"
   ]
  },
  {
   "cell_type": "code",
   "execution_count": 43,
   "metadata": {},
   "outputs": [
    {
     "name": "stdout",
     "output_type": "stream",
     "text": [
      "[[716 111]\n",
      " [151 146]]\n"
     ]
    },
    {
     "data": {
      "text/plain": [
       "<matplotlib.axes._subplots.AxesSubplot at 0x7fc61ef68f28>"
      ]
     },
     "execution_count": 43,
     "metadata": {},
     "output_type": "execute_result"
    },
    {
     "data": {
      "image/png": "[encoded data removed]",
      "text/plain": [
       "<Figure size 432x288 with 2 Axes>"
      ]
     },
     "metadata": {
      "needs_background": "light"
     },
     "output_type": "display_data"
    }
   ],
   "source": [
    "y_hat = knn.predict(X_val)\n",
    "cf_mat = confusion_matrix(y_val, y_hat)\n",
    "print(cf_mat)\n",
    "sns.heatmap(cf_mat, annot=True)"
   ]
  },
  {
   "cell_type": "markdown",
   "metadata": {},
   "source": [
    "### Random Forest"
   ]
  },
  {
   "cell_type": "markdown",
   "metadata": {},
   "source": [
    "In a bid to fight overfitting I will increase the number of trees, reduce the maximum features, and play with the maximum depth."
   ]
  },
  {
   "cell_type": "markdown",
   "metadata": {},
   "source": [
    "First doing # of trees/ n-estimators, keeping others at default"
   ]
  },
  {
   "cell_type": "markdown",
   "metadata": {},
   "source": [
    "Note: my default for n_estimators is 10, not 100, but I had mistakenly believed that I had the most recent version of sklearn."
   ]
  },
  {
   "cell_type": "code",
   "execution_count": 7,
   "metadata": {},
   "outputs": [
    {
     "name": "stdout",
     "output_type": "stream",
     "text": [
      "Train:\n",
      "1.0\n",
      "Val:\n",
      "0.7740213523131673\n"
     ]
    }
   ],
   "source": [
    "rf = RandomForestClassifier(n_estimators=200, max_depth=None, max_features='auto')\n",
    "\n",
    "rf.fit(X_t, y_t)\n",
    "\n",
    "print(\"Train:\")\n",
    "print(rf.score(X_t, y_t))\n",
    "print(\"Val:\")\n",
    "print(rf.score(X_val, y_val))"
   ]
  },
  {
   "cell_type": "code",
   "execution_count": 19,
   "metadata": {},
   "outputs": [
    {
     "name": "stdout",
     "output_type": "stream",
     "text": [
      "Train:\n",
      "1.0\n",
      "Val:\n",
      "0.7811387900355872\n"
     ]
    }
   ],
   "source": [
    "rf = RandomForestClassifier(n_estimators=100, max_depth=None, max_features='auto')\n",
    "\n",
    "rf.fit(X_t, y_t)\n",
    "\n",
    "print(\"Train:\")\n",
    "print(rf.score(X_t, y_t))\n",
    "print(\"Val:\")\n",
    "print(rf.score(X_val, y_val))"
   ]
  },
  {
   "cell_type": "markdown",
   "metadata": {},
   "source": [
    "Made it more accurate but now its 100% overfit\n",
    "\n",
    "Now on to max_depth"
   ]
  },
  {
   "cell_type": "code",
   "execution_count": 8,
   "metadata": {},
   "outputs": [
    {
     "name": "stdout",
     "output_type": "stream",
     "text": [
      "Train:\n",
      "0.7836153161175423\n",
      "Val:\n",
      "0.7900355871886121\n"
     ]
    }
   ],
   "source": [
    "rf = RandomForestClassifier(n_estimators=100, max_depth=5, max_features='auto')\n",
    "\n",
    "rf.fit(X_t, y_t)\n",
    "\n",
    "print(\"Train:\")\n",
    "print(rf.score(X_t, y_t))\n",
    "print(\"Val:\")\n",
    "print(rf.score(X_val, y_val))"
   ]
  },
  {
   "cell_type": "code",
   "execution_count": 9,
   "metadata": {},
   "outputs": [
    {
     "name": "stdout",
     "output_type": "stream",
     "text": [
      "Train:\n",
      "0.9085040071237755\n",
      "Val:\n",
      "0.7935943060498221\n"
     ]
    }
   ],
   "source": [
    "rf = RandomForestClassifier(n_estimators=100, max_depth=10, max_features='auto')\n",
    "\n",
    "rf.fit(X_t, y_t)\n",
    "\n",
    "print(\"Train:\")\n",
    "print(rf.score(X_t, y_t))\n",
    "print(\"Val:\")\n",
    "print(rf.score(X_val, y_val))"
   ]
  },
  {
   "cell_type": "code",
   "execution_count": 21,
   "metadata": {},
   "outputs": [
    {
     "name": "stdout",
     "output_type": "stream",
     "text": [
      "Train:\n",
      "0.804986642920748\n",
      "Val:\n",
      "0.7829181494661922\n"
     ]
    }
   ],
   "source": [
    "rf = RandomForestClassifier(n_estimators=100, max_depth=7, max_features='auto')\n",
    "\n",
    "rf.fit(X_t, y_t)\n",
    "\n",
    "print(\"Train:\")\n",
    "print(rf.score(X_t, y_t))\n",
    "print(\"Val:\")\n",
    "print(rf.score(X_val, y_val))"
   ]
  },
  {
   "cell_type": "markdown",
   "metadata": {},
   "source": [
    "Good, very good, Now onto max_features"
   ]
  },
  {
   "cell_type": "code",
   "execution_count": 13,
   "metadata": {},
   "outputs": [
    {
     "name": "stdout",
     "output_type": "stream",
     "text": [
      "Train:\n",
      "1.0\n",
      "Val:\n",
      "0.7615658362989324\n"
     ]
    }
   ],
   "source": [
    "rf = RandomForestClassifier(n_estimators=100, max_depth=None, max_features=10)\n",
    "\n",
    "rf.fit(X_t, y_t)\n",
    "\n",
    "print(\"Train:\")\n",
    "print(rf.score(X_t, y_t))\n",
    "print(\"Val:\")\n",
    "print(rf.score(X_val, y_val))"
   ]
  },
  {
   "cell_type": "code",
   "execution_count": 20,
   "metadata": {},
   "outputs": [
    {
     "name": "stdout",
     "output_type": "stream",
     "text": [
      "Train:\n",
      "1.0\n",
      "Val:\n",
      "0.7784697508896797\n"
     ]
    }
   ],
   "source": [
    "rf = RandomForestClassifier(n_estimators=100, max_depth=None, max_features=5)\n",
    "\n",
    "rf.fit(X_t, y_t)\n",
    "\n",
    "print(\"Train:\")\n",
    "print(rf.score(X_t, y_t))\n",
    "print(\"Val:\")\n",
    "print(rf.score(X_val, y_val))"
   ]
  },
  {
   "cell_type": "markdown",
   "metadata": {},
   "source": [
    "Overfit but small accuracy boost, time to use a max_depth of 7 along with the other parameters."
   ]
  },
  {
   "cell_type": "code",
   "execution_count": 41,
   "metadata": {},
   "outputs": [
    {
     "name": "stdout",
     "output_type": "stream",
     "text": [
      "Train:\n",
      "0.8201246660730187\n",
      "Val:\n",
      "0.7953736654804271\n"
     ]
    }
   ],
   "source": [
    "rf = RandomForestClassifier(n_estimators=100, max_depth=7, max_features=5)\n",
    "\n",
    "rf.fit(X_t, y_t)\n",
    "\n",
    "print(\"Train:\")\n",
    "print(rf.score(X_t, y_t))\n",
    "print(\"Val:\")\n",
    "print(rf.score(X_val, y_val))"
   ]
  },
  {
   "cell_type": "code",
   "execution_count": 28,
   "metadata": {},
   "outputs": [
    {
     "name": "stdout",
     "output_type": "stream",
     "text": [
      "Train:\n",
      "0.8192341941228851\n",
      "Val:\n",
      "0.7900355871886121\n"
     ]
    }
   ],
   "source": [
    "rf = RandomForestClassifier(n_estimators=100, max_depth=7, max_features=6)\n",
    "\n",
    "rf.fit(X_t, y_t)\n",
    "\n",
    "print(\"Train:\")\n",
    "print(rf.score(X_t, y_t))\n",
    "print(\"Val:\")\n",
    "print(rf.score(X_val, y_val))"
   ]
  },
  {
   "cell_type": "markdown",
   "metadata": {},
   "source": [
    "100, 7, 5 looks like my best bet for now"
   ]
  },
  {
   "cell_type": "code",
   "execution_count": 42,
   "metadata": {},
   "outputs": [
    {
     "name": "stdout",
     "output_type": "stream",
     "text": [
      "[[756  71]\n",
      " [159 138]]\n"
     ]
    },
    {
     "data": {
      "text/plain": [
       "<matplotlib.axes._subplots.AxesSubplot at 0x7fc61f8847f0>"
      ]
     },
     "execution_count": 42,
     "metadata": {},
     "output_type": "execute_result"
    },
    {
     "data": {
      "image/png": "[encoded data removed]",
      "text/plain": [
       "<Figure size 432x288 with 2 Axes>"
      ]
     },
     "metadata": {
      "needs_background": "light"
     },
     "output_type": "display_data"
    }
   ],
   "source": [
    "y_hat2 = rf.predict(X_val)\n",
    "cf_mat = confusion_matrix(y_val, y_hat2)\n",
    "print(cf_mat)\n",
    "sns.heatmap(cf_mat, annot=True)"
   ]
  },
  {
   "cell_type": "code",
   "execution_count": null,
   "metadata": {},
   "outputs": [],
   "source": []
  },
  {
   "cell_type": "code",
   "execution_count": null,
   "metadata": {},
   "outputs": [],
   "source": []
  },
  {
   "cell_type": "code",
   "execution_count": null,
   "metadata": {},
   "outputs": [],
   "source": []
  }
 ],
 "metadata": {
  "kernelspec": {
   "display_name": "learn-env",
   "language": "python",
   "name": "learn-env"
  },
  "language_info": {
   "codemirror_mode": {
    "name": "ipython",
    "version": 3
   },
   "file_extension": ".py",
   "mimetype": "text/x-python",
   "name": "python",
   "nbconvert_exporter": "python",
   "pygments_lexer": "ipython3",
   "version": "3.6.9"
  }
 },
 "nbformat": 4,
 "nbformat_minor": 4
}
