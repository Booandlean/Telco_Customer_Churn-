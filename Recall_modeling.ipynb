{
 "cells": [
  {
   "cell_type": "markdown",
   "metadata": {},
   "source": [
    "Note: This is the start of modeling with recall as the new scoring metric as oposed to accuracy. "
   ]
  },
  {
   "cell_type": "markdown",
   "metadata": {},
   "source": [
    "## Imports"
   ]
  },
  {
   "cell_type": "code",
   "execution_count": 1,
   "metadata": {},
   "outputs": [],
   "source": [
    "import pandas as pd\n",
    "import numpy as np\n",
    "from scipy import stats\n",
    "import seaborn as sns\n",
    "import matplotlib.pyplot as plt\n",
    "\n",
    "#Scikit learn imports:\n",
    "from sklearn.preprocessing import LabelEncoder\n",
    "from sklearn.preprocessing import OneHotEncoder\n",
    "from sklearn.preprocessing import StandardScaler\n",
    "\n",
    "from sklearn.ensemble import RandomForestClassifier\n",
    "from sklearn.tree import DecisionTreeClassifier\n",
    "from sklearn import neighbors, metrics\n",
    "from sklearn.metrics import precision_score, recall_score, accuracy_score, f1_score\n",
    "from sklearn.metrics import confusion_matrix\n",
    "\n",
    "from sklearn.model_selection import cross_val_score\n",
    "from sklearn.model_selection import train_test_split"
   ]
  },
  {
   "cell_type": "code",
   "execution_count": 2,
   "metadata": {},
   "outputs": [
    {
     "data": {
      "text/html": [
       "<div>\n",
       "<style scoped>\n",
       "    .dataframe tbody tr th:only-of-type {\n",
       "        vertical-align: middle;\n",
       "    }\n",
       "\n",
       "    .dataframe tbody tr th {\n",
       "        vertical-align: top;\n",
       "    }\n",
       "\n",
       "    .dataframe thead th {\n",
       "        text-align: right;\n",
       "    }\n",
       "</style>\n",
       "<table border=\"1\" class=\"dataframe\">\n",
       "  <thead>\n",
       "    <tr style=\"text-align: right;\">\n",
       "      <th></th>\n",
       "      <th>gender</th>\n",
       "      <th>SeniorCitizen</th>\n",
       "      <th>Partner</th>\n",
       "      <th>Dependents</th>\n",
       "      <th>PhoneService</th>\n",
       "      <th>MultipleLines</th>\n",
       "      <th>InternetService</th>\n",
       "      <th>OnlineSecurity</th>\n",
       "      <th>OnlineBackup</th>\n",
       "      <th>DeviceProtection</th>\n",
       "      <th>TechSupport</th>\n",
       "      <th>StreamingTV</th>\n",
       "      <th>StreamingMovies</th>\n",
       "      <th>Contract</th>\n",
       "      <th>PaperlessBilling</th>\n",
       "      <th>PaymentMethod</th>\n",
       "      <th>Churn</th>\n",
       "      <th>tenure</th>\n",
       "      <th>MonthlyCharges</th>\n",
       "      <th>TotalCharges</th>\n",
       "    </tr>\n",
       "  </thead>\n",
       "  <tbody>\n",
       "    <tr>\n",
       "      <th>0</th>\n",
       "      <td>0</td>\n",
       "      <td>0</td>\n",
       "      <td>1</td>\n",
       "      <td>0</td>\n",
       "      <td>0</td>\n",
       "      <td>1</td>\n",
       "      <td>0</td>\n",
       "      <td>0</td>\n",
       "      <td>2</td>\n",
       "      <td>0</td>\n",
       "      <td>0</td>\n",
       "      <td>0</td>\n",
       "      <td>0</td>\n",
       "      <td>0</td>\n",
       "      <td>1</td>\n",
       "      <td>2</td>\n",
       "      <td>0</td>\n",
       "      <td>-1.277445</td>\n",
       "      <td>-1.160323</td>\n",
       "      <td>-0.994194</td>\n",
       "    </tr>\n",
       "    <tr>\n",
       "      <th>1</th>\n",
       "      <td>1</td>\n",
       "      <td>0</td>\n",
       "      <td>0</td>\n",
       "      <td>0</td>\n",
       "      <td>1</td>\n",
       "      <td>0</td>\n",
       "      <td>0</td>\n",
       "      <td>2</td>\n",
       "      <td>0</td>\n",
       "      <td>2</td>\n",
       "      <td>0</td>\n",
       "      <td>0</td>\n",
       "      <td>0</td>\n",
       "      <td>1</td>\n",
       "      <td>0</td>\n",
       "      <td>3</td>\n",
       "      <td>0</td>\n",
       "      <td>0.066327</td>\n",
       "      <td>-0.259629</td>\n",
       "      <td>-0.173740</td>\n",
       "    </tr>\n",
       "    <tr>\n",
       "      <th>2</th>\n",
       "      <td>1</td>\n",
       "      <td>0</td>\n",
       "      <td>0</td>\n",
       "      <td>0</td>\n",
       "      <td>1</td>\n",
       "      <td>0</td>\n",
       "      <td>0</td>\n",
       "      <td>2</td>\n",
       "      <td>2</td>\n",
       "      <td>0</td>\n",
       "      <td>0</td>\n",
       "      <td>0</td>\n",
       "      <td>0</td>\n",
       "      <td>0</td>\n",
       "      <td>1</td>\n",
       "      <td>3</td>\n",
       "      <td>1</td>\n",
       "      <td>-1.236724</td>\n",
       "      <td>-0.362660</td>\n",
       "      <td>-0.959649</td>\n",
       "    </tr>\n",
       "    <tr>\n",
       "      <th>3</th>\n",
       "      <td>1</td>\n",
       "      <td>0</td>\n",
       "      <td>0</td>\n",
       "      <td>0</td>\n",
       "      <td>0</td>\n",
       "      <td>1</td>\n",
       "      <td>0</td>\n",
       "      <td>2</td>\n",
       "      <td>0</td>\n",
       "      <td>2</td>\n",
       "      <td>2</td>\n",
       "      <td>0</td>\n",
       "      <td>0</td>\n",
       "      <td>1</td>\n",
       "      <td>0</td>\n",
       "      <td>0</td>\n",
       "      <td>0</td>\n",
       "      <td>0.514251</td>\n",
       "      <td>-0.746535</td>\n",
       "      <td>-0.195248</td>\n",
       "    </tr>\n",
       "    <tr>\n",
       "      <th>4</th>\n",
       "      <td>0</td>\n",
       "      <td>0</td>\n",
       "      <td>0</td>\n",
       "      <td>0</td>\n",
       "      <td>1</td>\n",
       "      <td>0</td>\n",
       "      <td>1</td>\n",
       "      <td>0</td>\n",
       "      <td>0</td>\n",
       "      <td>0</td>\n",
       "      <td>0</td>\n",
       "      <td>0</td>\n",
       "      <td>0</td>\n",
       "      <td>0</td>\n",
       "      <td>1</td>\n",
       "      <td>2</td>\n",
       "      <td>1</td>\n",
       "      <td>-1.236724</td>\n",
       "      <td>0.197365</td>\n",
       "      <td>-0.940457</td>\n",
       "    </tr>\n",
       "  </tbody>\n",
       "</table>\n",
       "</div>"
      ],
      "text/plain": [
       "   gender  SeniorCitizen  Partner  Dependents  PhoneService  MultipleLines  \\\n",
       "0       0              0        1           0             0              1   \n",
       "1       1              0        0           0             1              0   \n",
       "2       1              0        0           0             1              0   \n",
       "3       1              0        0           0             0              1   \n",
       "4       0              0        0           0             1              0   \n",
       "\n",
       "   InternetService  OnlineSecurity  OnlineBackup  DeviceProtection  \\\n",
       "0                0               0             2                 0   \n",
       "1                0               2             0                 2   \n",
       "2                0               2             2                 0   \n",
       "3                0               2             0                 2   \n",
       "4                1               0             0                 0   \n",
       "\n",
       "   TechSupport  StreamingTV  StreamingMovies  Contract  PaperlessBilling  \\\n",
       "0            0            0                0         0                 1   \n",
       "1            0            0                0         1                 0   \n",
       "2            0            0                0         0                 1   \n",
       "3            2            0                0         1                 0   \n",
       "4            0            0                0         0                 1   \n",
       "\n",
       "   PaymentMethod  Churn    tenure  MonthlyCharges  TotalCharges  \n",
       "0              2      0 -1.277445       -1.160323     -0.994194  \n",
       "1              3      0  0.066327       -0.259629     -0.173740  \n",
       "2              3      1 -1.236724       -0.362660     -0.959649  \n",
       "3              0      0  0.514251       -0.746535     -0.195248  \n",
       "4              2      1 -1.236724        0.197365     -0.940457  "
      ]
     },
     "execution_count": 2,
     "metadata": {},
     "output_type": "execute_result"
    }
   ],
   "source": [
    "from src.dataprep import prep_df\n",
    "df = prep_df()\n",
    "df.head()"
   ]
  },
  {
   "cell_type": "code",
   "execution_count": 3,
   "metadata": {},
   "outputs": [],
   "source": [
    "X = df.drop(['Churn'], axis = 1)\n",
    "y = df['Churn']\n",
    "X_train, X_test, y_train, y_test = train_test_split(X, y, test_size = .2, random_state = 7)\n",
    "X_t, X_val, y_t, y_val = train_test_split(X_train, y_train, test_size = .2, random_state = 7)"
   ]
  },
  {
   "cell_type": "markdown",
   "metadata": {},
   "source": [
    "My process here is going to be similar to how I aproached optimizing accuracy, so I will likely have less text in between models."
   ]
  },
  {
   "cell_type": "markdown",
   "metadata": {},
   "source": [
    "### KNN"
   ]
  },
  {
   "cell_type": "markdown",
   "metadata": {},
   "source": [
    "I'm going to start with n_neigbors and then mess with p"
   ]
  },
  {
   "cell_type": "markdown",
   "metadata": {},
   "source": [
    "#### Default: n_neighbors = 5, p = 2"
   ]
  },
  {
   "cell_type": "code",
   "execution_count": 15,
   "metadata": {},
   "outputs": [
    {
     "name": "stdout",
     "output_type": "stream",
     "text": [
      "Train:\n",
      "0.7205452775073028\n",
      "Val:\n",
      "0.5021097046413502\n"
     ]
    }
   ],
   "source": [
    "knn = neighbors.KNeighborsClassifier()\n",
    "knn.fit(X_t, y_t)\n",
    "train_pred = knn.predict(X_t)\n",
    "print(\"Train:\")\n",
    "print(recall_score(train_pred, y_t))\n",
    "val_pred = knn.predict(X_val)\n",
    "print(\"Val:\")\n",
    "print(recall_score(val_pred, y_val))"
   ]
  },
  {
   "cell_type": "code",
   "execution_count": 7,
   "metadata": {},
   "outputs": [
    {
     "name": "stdout",
     "output_type": "stream",
     "text": [
      "Train:\n",
      "1.0\n",
      "Val:\n",
      "0.5426356589147286\n"
     ]
    }
   ],
   "source": [
    "knn = neighbors.KNeighborsClassifier(n_neighbors = 2, p = 2)\n",
    "knn.fit(X_t, y_t)\n",
    "train_pred = knn.predict(X_t)\n",
    "print(\"Train:\")\n",
    "print(recall_score(train_pred, y_t))\n",
    "val_pred = knn.predict(X_val)\n",
    "print(\"Val:\")\n",
    "print(recall_score(val_pred, y_val))"
   ]
  },
  {
   "cell_type": "code",
   "execution_count": 10,
   "metadata": {},
   "outputs": [
    {
     "name": "stdout",
     "output_type": "stream",
     "text": [
      "Train:\n",
      "0.7670349907918969\n",
      "Val:\n",
      "0.4901185770750988\n"
     ]
    }
   ],
   "source": [
    "knn = neighbors.KNeighborsClassifier(n_neighbors = 3, p = 2)\n",
    "knn.fit(X_t, y_t)\n",
    "train_pred = knn.predict(X_t)\n",
    "print(\"Train:\")\n",
    "print(recall_score(train_pred, y_t))\n",
    "val_pred = knn.predict(X_val)\n",
    "print(\"Val:\")\n",
    "print(recall_score(val_pred, y_val))"
   ]
  },
  {
   "cell_type": "code",
   "execution_count": 22,
   "metadata": {},
   "outputs": [
    {
     "name": "stdout",
     "output_type": "stream",
     "text": [
      "Train:\n",
      "0.6829025844930418\n",
      "Val:\n",
      "0.5062240663900415\n"
     ]
    }
   ],
   "source": [
    "knn = neighbors.KNeighborsClassifier(n_neighbors = 7, p = 2)\n",
    "knn.fit(X_t, y_t)\n",
    "train_pred = knn.predict(X_t)\n",
    "print(\"Train:\")\n",
    "print(recall_score(train_pred, y_t))\n",
    "val_pred = knn.predict(X_val)\n",
    "print(\"Val:\")\n",
    "print(recall_score(val_pred, y_val))"
   ]
  },
  {
   "cell_type": "code",
   "execution_count": 23,
   "metadata": {},
   "outputs": [
    {
     "name": "stdout",
     "output_type": "stream",
     "text": [
      "Train:\n",
      "0.6991576413959085\n",
      "Val:\n",
      "0.5692307692307692\n"
     ]
    }
   ],
   "source": [
    "knn = neighbors.KNeighborsClassifier(n_neighbors = 10, p = 2)\n",
    "knn.fit(X_t, y_t)\n",
    "train_pred = knn.predict(X_t)\n",
    "print(\"Train:\")\n",
    "print(recall_score(train_pred, y_t))\n",
    "val_pred = knn.predict(X_val)\n",
    "print(\"Val:\")\n",
    "print(recall_score(val_pred, y_val))"
   ]
  },
  {
   "cell_type": "code",
   "execution_count": 24,
   "metadata": {},
   "outputs": [
    {
     "name": "stdout",
     "output_type": "stream",
     "text": [
      "Train:\n",
      "0.6855491329479769\n",
      "Val:\n",
      "0.5771144278606966\n"
     ]
    }
   ],
   "source": [
    "knn = neighbors.KNeighborsClassifier(n_neighbors = 12, p = 2)\n",
    "knn.fit(X_t, y_t)\n",
    "train_pred = knn.predict(X_t)\n",
    "print(\"Train:\")\n",
    "print(recall_score(train_pred, y_t))\n",
    "val_pred = knn.predict(X_val)\n",
    "print(\"Val:\")\n",
    "print(recall_score(val_pred, y_val))"
   ]
  },
  {
   "cell_type": "code",
   "execution_count": 25,
   "metadata": {},
   "outputs": [
    {
     "name": "stdout",
     "output_type": "stream",
     "text": [
      "Train:\n",
      "0.6614634146341464\n",
      "Val:\n",
      "0.5606694560669456\n"
     ]
    }
   ],
   "source": [
    "knn = neighbors.KNeighborsClassifier(n_neighbors = 13, p = 2)\n",
    "knn.fit(X_t, y_t)\n",
    "train_pred = knn.predict(X_t)\n",
    "print(\"Train:\")\n",
    "print(recall_score(train_pred, y_t))\n",
    "val_pred = knn.predict(X_val)\n",
    "print(\"Val:\")\n",
    "print(recall_score(val_pred, y_val))"
   ]
  },
  {
   "cell_type": "code",
   "execution_count": 26,
   "metadata": {
    "scrolled": true
   },
   "outputs": [
    {
     "name": "stdout",
     "output_type": "stream",
     "text": [
      "Train:\n",
      "0.6696252465483234\n",
      "Val:\n",
      "0.5390946502057613\n"
     ]
    }
   ],
   "source": [
    "knn = neighbors.KNeighborsClassifier(n_neighbors = 11, p = 2)\n",
    "knn.fit(X_t, y_t)\n",
    "train_pred = knn.predict(X_t)\n",
    "print(\"Train:\")\n",
    "print(recall_score(train_pred, y_t))\n",
    "val_pred = knn.predict(X_val)\n",
    "print(\"Val:\")\n",
    "print(recall_score(val_pred, y_val))"
   ]
  },
  {
   "cell_type": "markdown",
   "metadata": {},
   "source": [
    "n_neighbors = 12 seems to be working best, but man those scores are not good"
   ]
  },
  {
   "cell_type": "code",
   "execution_count": 28,
   "metadata": {},
   "outputs": [
    {
     "name": "stdout",
     "output_type": "stream",
     "text": [
      "Train:\n",
      "0.7216589861751153\n",
      "Val:\n",
      "0.5258964143426295\n"
     ]
    }
   ],
   "source": [
    "knn = neighbors.KNeighborsClassifier(p = 1)\n",
    "knn.fit(X_t, y_t)\n",
    "train_pred = knn.predict(X_t)\n",
    "print(\"Train:\")\n",
    "print(recall_score(train_pred, y_t))\n",
    "val_pred = knn.predict(X_val)\n",
    "print(\"Val:\")\n",
    "print(recall_score(val_pred, y_val))"
   ]
  },
  {
   "cell_type": "code",
   "execution_count": 30,
   "metadata": {},
   "outputs": [
    {
     "name": "stdout",
     "output_type": "stream",
     "text": [
      "Train:\n",
      "0.7182266009852217\n",
      "Val:\n",
      "0.5240174672489083\n"
     ]
    }
   ],
   "source": [
    "knn = neighbors.KNeighborsClassifier(p = 3)\n",
    "knn.fit(X_t, y_t)\n",
    "train_pred = knn.predict(X_t)\n",
    "print(\"Train:\")\n",
    "print(recall_score(train_pred, y_t))\n",
    "val_pred = knn.predict(X_val)\n",
    "print(\"Val:\")\n",
    "print(recall_score(val_pred, y_val))"
   ]
  },
  {
   "cell_type": "markdown",
   "metadata": {},
   "source": [
    "p = 1 seems to work a little better"
   ]
  },
  {
   "cell_type": "code",
   "execution_count": 31,
   "metadata": {},
   "outputs": [
    {
     "name": "stdout",
     "output_type": "stream",
     "text": [
      "Train:\n",
      "0.6998939554612937\n",
      "Val:\n",
      "0.5871559633027523\n"
     ]
    }
   ],
   "source": [
    "knn = neighbors.KNeighborsClassifier(n_neighbors = 12, p = 1)\n",
    "knn.fit(X_t, y_t)\n",
    "train_pred = knn.predict(X_t)\n",
    "print(\"Train:\")\n",
    "print(recall_score(train_pred, y_t))\n",
    "val_pred = knn.predict(X_val)\n",
    "print(\"Val:\")\n",
    "print(recall_score(val_pred, y_val))"
   ]
  },
  {
   "cell_type": "markdown",
   "metadata": {},
   "source": [
    "### Random Forest"
   ]
  },
  {
   "cell_type": "markdown",
   "metadata": {},
   "source": [
    "The main difference here is that I'll start with the my actual default's and now start with 10 as my default value for n_estimators, other than that this will be virtualy the same process as before. "
   ]
  },
  {
   "cell_type": "code",
   "execution_count": 43,
   "metadata": {},
   "outputs": [
    {
     "name": "stdout",
     "output_type": "stream",
     "text": [
      "Train:\n",
      "0.98861646234676\n",
      "Val:\n",
      "0.62\n"
     ]
    }
   ],
   "source": [
    "rf = RandomForestClassifier(n_estimators=10, max_depth=None, max_features='auto', random_state = 7)\n",
    "\n",
    "rf.fit(X_t, y_t)\n",
    "train_pred = rf.predict(X_t)\n",
    "print(\"Train:\")\n",
    "print(recall_score(train_pred, y_t))\n",
    "val_pred = rf.predict(X_val)\n",
    "print(\"Val:\")\n",
    "print(recall_score(val_pred, y_val))"
   ]
  },
  {
   "cell_type": "markdown",
   "metadata": {},
   "source": [
    "Better than the KNN already, but still not great"
   ]
  },
  {
   "cell_type": "code",
   "execution_count": 44,
   "metadata": {},
   "outputs": [
    {
     "name": "stdout",
     "output_type": "stream",
     "text": [
      "Train:\n",
      "0.995819397993311\n",
      "Val:\n",
      "0.5913461538461539\n"
     ]
    }
   ],
   "source": [
    "rf = RandomForestClassifier(n_estimators=100, max_depth=None, max_features='auto', random_state = 7)\n",
    "\n",
    "rf.fit(X_t, y_t)\n",
    "train_pred = rf.predict(X_t)\n",
    "print(\"Train:\")\n",
    "print(recall_score(train_pred, y_t))\n",
    "val_pred = rf.predict(X_val)\n",
    "print(\"Val:\")\n",
    "print(recall_score(val_pred, y_val))"
   ]
  },
  {
   "cell_type": "code",
   "execution_count": 45,
   "metadata": {},
   "outputs": [
    {
     "name": "stdout",
     "output_type": "stream",
     "text": [
      "Train:\n",
      "0.9915397631133672\n",
      "Val:\n",
      "0.6135265700483091\n"
     ]
    }
   ],
   "source": [
    "rf = RandomForestClassifier(n_estimators=20, max_depth=None, max_features='auto', random_state = 7)\n",
    "\n",
    "rf.fit(X_t, y_t)\n",
    "train_pred = rf.predict(X_t)\n",
    "print(\"Train:\")\n",
    "print(recall_score(train_pred, y_t))\n",
    "val_pred = rf.predict(X_val)\n",
    "print(\"Val:\")\n",
    "print(recall_score(val_pred, y_val))"
   ]
  },
  {
   "cell_type": "code",
   "execution_count": 46,
   "metadata": {},
   "outputs": [
    {
     "name": "stdout",
     "output_type": "stream",
     "text": [
      "Train:\n",
      "0.9924874791318865\n",
      "Val:\n",
      "0.6213592233009708\n"
     ]
    }
   ],
   "source": [
    "rf = RandomForestClassifier(n_estimators=30, max_depth=None, max_features='auto', random_state = 7)\n",
    "\n",
    "rf.fit(X_t, y_t)\n",
    "train_pred = rf.predict(X_t)\n",
    "print(\"Train:\")\n",
    "print(recall_score(train_pred, y_t))\n",
    "val_pred = rf.predict(X_val)\n",
    "print(\"Val:\")\n",
    "print(recall_score(val_pred, y_val))"
   ]
  },
  {
   "cell_type": "code",
   "execution_count": 50,
   "metadata": {},
   "outputs": [
    {
     "name": "stdout",
     "output_type": "stream",
     "text": [
      "Train:\n",
      "0.9933277731442869\n",
      "Val:\n",
      "0.6093023255813953\n"
     ]
    }
   ],
   "source": [
    "rf = RandomForestClassifier(n_estimators=35, max_depth=None, max_features='auto', random_state = 7)\n",
    "\n",
    "rf.fit(X_t, y_t)\n",
    "train_pred = rf.predict(X_t)\n",
    "print(\"Train:\")\n",
    "print(recall_score(train_pred, y_t))\n",
    "val_pred = rf.predict(X_val)\n",
    "print(\"Val:\")\n",
    "print(recall_score(val_pred, y_val))"
   ]
  },
  {
   "cell_type": "code",
   "execution_count": 51,
   "metadata": {},
   "outputs": [
    {
     "name": "stdout",
     "output_type": "stream",
     "text": [
      "Train:\n",
      "0.9925\n",
      "Val:\n",
      "0.6082949308755761\n"
     ]
    }
   ],
   "source": [
    "rf = RandomForestClassifier(n_estimators=31, max_depth=None, max_features='auto', random_state = 7)\n",
    "\n",
    "rf.fit(X_t, y_t)\n",
    "train_pred = rf.predict(X_t)\n",
    "print(\"Train:\")\n",
    "print(recall_score(train_pred, y_t))\n",
    "val_pred = rf.predict(X_val)\n",
    "print(\"Val:\")\n",
    "print(recall_score(val_pred, y_val))"
   ]
  },
  {
   "cell_type": "code",
   "execution_count": 52,
   "metadata": {},
   "outputs": [
    {
     "name": "stdout",
     "output_type": "stream",
     "text": [
      "Train:\n",
      "0.9916736053288926\n",
      "Val:\n",
      "0.6064814814814815\n"
     ]
    }
   ],
   "source": [
    "rf = RandomForestClassifier(n_estimators=29, max_depth=None, max_features='auto', random_state = 7)\n",
    "\n",
    "rf.fit(X_t, y_t)\n",
    "train_pred = rf.predict(X_t)\n",
    "print(\"Train:\")\n",
    "print(recall_score(train_pred, y_t))\n",
    "val_pred = rf.predict(X_val)\n",
    "print(\"Val:\")\n",
    "print(recall_score(val_pred, y_val))"
   ]
  },
  {
   "cell_type": "markdown",
   "metadata": {},
   "source": [
    "Looks like n = 30 is working best, but they're all super overfit"
   ]
  },
  {
   "cell_type": "code",
   "execution_count": 53,
   "metadata": {},
   "outputs": [
    {
     "name": "stdout",
     "output_type": "stream",
     "text": [
      "Train:\n",
      "0.6991869918699187\n",
      "Val:\n",
      "0.67\n"
     ]
    }
   ],
   "source": [
    "rf = RandomForestClassifier(n_estimators=30, max_depth=5, max_features='auto', random_state = 7)\n",
    "\n",
    "rf.fit(X_t, y_t)\n",
    "train_pred = rf.predict(X_t)\n",
    "print(\"Train:\")\n",
    "print(recall_score(train_pred, y_t))\n",
    "val_pred = rf.predict(X_val)\n",
    "print(\"Val:\")\n",
    "print(recall_score(val_pred, y_val))"
   ]
  },
  {
   "cell_type": "code",
   "execution_count": 54,
   "metadata": {},
   "outputs": [
    {
     "name": "stdout",
     "output_type": "stream",
     "text": [
      "Train:\n",
      "0.8683693516699411\n",
      "Val:\n",
      "0.6179245283018868\n"
     ]
    }
   ],
   "source": [
    "rf = RandomForestClassifier(n_estimators=30, max_depth=10, max_features='auto', random_state = 7)\n",
    "\n",
    "rf.fit(X_t, y_t)\n",
    "train_pred = rf.predict(X_t)\n",
    "print(\"Train:\")\n",
    "print(recall_score(train_pred, y_t))\n",
    "val_pred = rf.predict(X_val)\n",
    "print(\"Val:\")\n",
    "print(recall_score(val_pred, y_val))"
   ]
  },
  {
   "cell_type": "code",
   "execution_count": 55,
   "metadata": {},
   "outputs": [
    {
     "name": "stdout",
     "output_type": "stream",
     "text": [
      "Train:\n",
      "0.7477973568281938\n",
      "Val:\n",
      "0.6338028169014085\n"
     ]
    }
   ],
   "source": [
    "rf = RandomForestClassifier(n_estimators=30, max_depth=7, max_features='auto', random_state = 7)\n",
    "\n",
    "rf.fit(X_t, y_t)\n",
    "train_pred = rf.predict(X_t)\n",
    "print(\"Train:\")\n",
    "print(recall_score(train_pred, y_t))\n",
    "val_pred = rf.predict(X_val)\n",
    "print(\"Val:\")\n",
    "print(recall_score(val_pred, y_val))"
   ]
  },
  {
   "cell_type": "code",
   "execution_count": 56,
   "metadata": {},
   "outputs": [
    {
     "name": "stdout",
     "output_type": "stream",
     "text": [
      "Train:\n",
      "0.7261698440207972\n",
      "Val:\n",
      "0.7478991596638656\n"
     ]
    }
   ],
   "source": [
    "rf = RandomForestClassifier(n_estimators=30, max_depth=3, max_features='auto', random_state = 7)\n",
    "\n",
    "rf.fit(X_t, y_t)\n",
    "train_pred = rf.predict(X_t)\n",
    "print(\"Train:\")\n",
    "print(recall_score(train_pred, y_t))\n",
    "val_pred = rf.predict(X_val)\n",
    "print(\"Val:\")\n",
    "print(recall_score(val_pred, y_val))"
   ]
  },
  {
   "cell_type": "code",
   "execution_count": 57,
   "metadata": {},
   "outputs": [
    {
     "name": "stdout",
     "output_type": "stream",
     "text": [
      "Train:\n",
      "0.7638036809815951\n",
      "Val:\n",
      "0.8026315789473685\n"
     ]
    }
   ],
   "source": [
    "rf = RandomForestClassifier(n_estimators=30, max_depth=2, max_features='auto', random_state = 7)\n",
    "\n",
    "rf.fit(X_t, y_t)\n",
    "train_pred = rf.predict(X_t)\n",
    "print(\"Train:\")\n",
    "print(recall_score(train_pred, y_t))\n",
    "val_pred = rf.predict(X_val)\n",
    "print(\"Val:\")\n",
    "print(recall_score(val_pred, y_val))"
   ]
  },
  {
   "cell_type": "markdown",
   "metadata": {},
   "source": [
    "max_depth=2 is working very well, makes me suspicious that I'm doing something incorrectly, but I'll keep going. "
   ]
  },
  {
   "cell_type": "code",
   "execution_count": 59,
   "metadata": {},
   "outputs": [
    {
     "name": "stdout",
     "output_type": "stream",
     "text": [
      "Train:\n",
      "0.7377049180327869\n",
      "Val:\n",
      "0.6981132075471698\n"
     ]
    }
   ],
   "source": [
    "rf = RandomForestClassifier(n_estimators=30, max_depth=2, max_features=10, random_state = 7)\n",
    "\n",
    "rf.fit(X_t, y_t)\n",
    "train_pred = rf.predict(X_t)\n",
    "print(\"Train:\")\n",
    "print(recall_score(train_pred, y_t))\n",
    "val_pred = rf.predict(X_val)\n",
    "print(\"Val:\")\n",
    "print(recall_score(val_pred, y_val))"
   ]
  },
  {
   "cell_type": "code",
   "execution_count": 60,
   "metadata": {},
   "outputs": [
    {
     "name": "stdout",
     "output_type": "stream",
     "text": [
      "Train:\n",
      "0.727710843373494\n",
      "Val:\n",
      "0.7653061224489796\n"
     ]
    }
   ],
   "source": [
    "rf = RandomForestClassifier(n_estimators=30, max_depth=2, max_features=5, random_state = 7)\n",
    "\n",
    "rf.fit(X_t, y_t)\n",
    "train_pred = rf.predict(X_t)\n",
    "print(\"Train:\")\n",
    "print(recall_score(train_pred, y_t))\n",
    "val_pred = rf.predict(X_val)\n",
    "print(\"Val:\")\n",
    "print(recall_score(val_pred, y_val))"
   ]
  },
  {
   "cell_type": "code",
   "execution_count": 61,
   "metadata": {},
   "outputs": [
    {
     "name": "stdout",
     "output_type": "stream",
     "text": [
      "Train:\n",
      "0.8324873096446701\n",
      "Val:\n",
      "0.825\n"
     ]
    }
   ],
   "source": [
    "rf = RandomForestClassifier(n_estimators=30, max_depth=2, max_features=3, random_state = 7)\n",
    "\n",
    "rf.fit(X_t, y_t)\n",
    "train_pred = rf.predict(X_t)\n",
    "print(\"Train:\")\n",
    "print(recall_score(train_pred, y_t))\n",
    "val_pred = rf.predict(X_val)\n",
    "print(\"Val:\")\n",
    "print(recall_score(val_pred, y_val))"
   ]
  },
  {
   "cell_type": "code",
   "execution_count": 65,
   "metadata": {},
   "outputs": [
    {
     "name": "stdout",
     "output_type": "stream",
     "text": [
      "Train:\n",
      "0.7748344370860927\n",
      "Val:\n",
      "0.8333333333333334\n"
     ]
    }
   ],
   "source": [
    "rf = RandomForestClassifier(n_estimators=30, max_depth=2, max_features=2, random_state = 7)\n",
    "\n",
    "rf.fit(X_t, y_t)\n",
    "train_pred = rf.predict(X_t)\n",
    "print(\"Train:\")\n",
    "print(recall_score(train_pred, y_t))\n",
    "val_pred = rf.predict(X_val)\n",
    "print(\"Val:\")\n",
    "print(recall_score(val_pred, y_val))"
   ]
  },
  {
   "cell_type": "markdown",
   "metadata": {},
   "source": [
    "Although the validation accuracy did perform better with max_features = 2, the difference in train vs val accuracy  makes me want to stick with 3."
   ]
  },
  {
   "cell_type": "code",
   "execution_count": 66,
   "metadata": {},
   "outputs": [
    {
     "name": "stdout",
     "output_type": "stream",
     "text": [
      "Train:\n",
      "0.8098591549295775\n",
      "Val:\n",
      "0.8142857142857143\n"
     ]
    }
   ],
   "source": [
    "rf = RandomForestClassifier(n_estimators=30, max_depth=2, max_features=3, random_state = 7)\n",
    "\n",
    "rf.fit(X_train, y_train)\n",
    "train_pred = rf.predict(X_train)\n",
    "print(\"Train:\")\n",
    "print(recall_score(train_pred, y_train))\n",
    "val_pred = rf.predict(X_test)\n",
    "print(\"Val:\")\n",
    "print(recall_score(val_pred, y_test))"
   ]
  },
  {
   "cell_type": "code",
   "execution_count": null,
   "metadata": {},
   "outputs": [],
   "source": [
    "rf = RandomForestClassifier(n_estimators=30, max_depth=2, max_features=3, random_state = 7)\n",
    "\n",
    "rf.fit(X_train, y_train)\n",
    "train_pred = rf.predict(X_train)\n",
    "print(\"Train:\")\n",
    "print(recall_score(train_pred, y_train))\n",
    "val_pred = rf.predict(X_test)\n",
    "print(\"Val:\")\n",
    "print(recall_score(val_pred, y_test))"
   ]
  }
 ],
 "metadata": {
  "kernelspec": {
   "display_name": "telco",
   "language": "python",
   "name": "telco"
  },
  "language_info": {
   "codemirror_mode": {
    "name": "ipython",
    "version": 3
   },
   "file_extension": ".py",
   "mimetype": "text/x-python",
   "name": "python",
   "nbconvert_exporter": "python",
   "pygments_lexer": "ipython3",
   "version": "3.8.5"
  }
 },
 "nbformat": 4,
 "nbformat_minor": 4
}
