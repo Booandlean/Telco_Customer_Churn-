{
 "cells": [
  {
   "cell_type": "markdown",
   "metadata": {},
   "source": [
    "## Imports"
   ]
  },
  {
   "cell_type": "code",
   "execution_count": 1,
   "metadata": {},
   "outputs": [
    {
     "data": {
      "text/html": [
       "<div>\n",
       "<style scoped>\n",
       "    .dataframe tbody tr th:only-of-type {\n",
       "        vertical-align: middle;\n",
       "    }\n",
       "\n",
       "    .dataframe tbody tr th {\n",
       "        vertical-align: top;\n",
       "    }\n",
       "\n",
       "    .dataframe thead th {\n",
       "        text-align: right;\n",
       "    }\n",
       "</style>\n",
       "<table border=\"1\" class=\"dataframe\">\n",
       "  <thead>\n",
       "    <tr style=\"text-align: right;\">\n",
       "      <th></th>\n",
       "      <th>gender</th>\n",
       "      <th>SeniorCitizen</th>\n",
       "      <th>Partner</th>\n",
       "      <th>Dependents</th>\n",
       "      <th>PhoneService</th>\n",
       "      <th>MultipleLines</th>\n",
       "      <th>InternetService</th>\n",
       "      <th>OnlineSecurity</th>\n",
       "      <th>OnlineBackup</th>\n",
       "      <th>DeviceProtection</th>\n",
       "      <th>TechSupport</th>\n",
       "      <th>StreamingTV</th>\n",
       "      <th>StreamingMovies</th>\n",
       "      <th>Contract</th>\n",
       "      <th>PaperlessBilling</th>\n",
       "      <th>PaymentMethod</th>\n",
       "      <th>Churn</th>\n",
       "      <th>tenure</th>\n",
       "      <th>MonthlyCharges</th>\n",
       "      <th>TotalCharges</th>\n",
       "    </tr>\n",
       "  </thead>\n",
       "  <tbody>\n",
       "    <tr>\n",
       "      <th>0</th>\n",
       "      <td>0</td>\n",
       "      <td>0</td>\n",
       "      <td>1</td>\n",
       "      <td>0</td>\n",
       "      <td>0</td>\n",
       "      <td>1</td>\n",
       "      <td>0</td>\n",
       "      <td>0</td>\n",
       "      <td>2</td>\n",
       "      <td>0</td>\n",
       "      <td>0</td>\n",
       "      <td>0</td>\n",
       "      <td>0</td>\n",
       "      <td>0</td>\n",
       "      <td>1</td>\n",
       "      <td>2</td>\n",
       "      <td>0</td>\n",
       "      <td>-1.277445</td>\n",
       "      <td>-1.160323</td>\n",
       "      <td>-0.994194</td>\n",
       "    </tr>\n",
       "    <tr>\n",
       "      <th>1</th>\n",
       "      <td>1</td>\n",
       "      <td>0</td>\n",
       "      <td>0</td>\n",
       "      <td>0</td>\n",
       "      <td>1</td>\n",
       "      <td>0</td>\n",
       "      <td>0</td>\n",
       "      <td>2</td>\n",
       "      <td>0</td>\n",
       "      <td>2</td>\n",
       "      <td>0</td>\n",
       "      <td>0</td>\n",
       "      <td>0</td>\n",
       "      <td>1</td>\n",
       "      <td>0</td>\n",
       "      <td>3</td>\n",
       "      <td>0</td>\n",
       "      <td>0.066327</td>\n",
       "      <td>-0.259629</td>\n",
       "      <td>-0.173740</td>\n",
       "    </tr>\n",
       "    <tr>\n",
       "      <th>2</th>\n",
       "      <td>1</td>\n",
       "      <td>0</td>\n",
       "      <td>0</td>\n",
       "      <td>0</td>\n",
       "      <td>1</td>\n",
       "      <td>0</td>\n",
       "      <td>0</td>\n",
       "      <td>2</td>\n",
       "      <td>2</td>\n",
       "      <td>0</td>\n",
       "      <td>0</td>\n",
       "      <td>0</td>\n",
       "      <td>0</td>\n",
       "      <td>0</td>\n",
       "      <td>1</td>\n",
       "      <td>3</td>\n",
       "      <td>1</td>\n",
       "      <td>-1.236724</td>\n",
       "      <td>-0.362660</td>\n",
       "      <td>-0.959649</td>\n",
       "    </tr>\n",
       "    <tr>\n",
       "      <th>3</th>\n",
       "      <td>1</td>\n",
       "      <td>0</td>\n",
       "      <td>0</td>\n",
       "      <td>0</td>\n",
       "      <td>0</td>\n",
       "      <td>1</td>\n",
       "      <td>0</td>\n",
       "      <td>2</td>\n",
       "      <td>0</td>\n",
       "      <td>2</td>\n",
       "      <td>2</td>\n",
       "      <td>0</td>\n",
       "      <td>0</td>\n",
       "      <td>1</td>\n",
       "      <td>0</td>\n",
       "      <td>0</td>\n",
       "      <td>0</td>\n",
       "      <td>0.514251</td>\n",
       "      <td>-0.746535</td>\n",
       "      <td>-0.195248</td>\n",
       "    </tr>\n",
       "    <tr>\n",
       "      <th>4</th>\n",
       "      <td>0</td>\n",
       "      <td>0</td>\n",
       "      <td>0</td>\n",
       "      <td>0</td>\n",
       "      <td>1</td>\n",
       "      <td>0</td>\n",
       "      <td>1</td>\n",
       "      <td>0</td>\n",
       "      <td>0</td>\n",
       "      <td>0</td>\n",
       "      <td>0</td>\n",
       "      <td>0</td>\n",
       "      <td>0</td>\n",
       "      <td>0</td>\n",
       "      <td>1</td>\n",
       "      <td>2</td>\n",
       "      <td>1</td>\n",
       "      <td>-1.236724</td>\n",
       "      <td>0.197365</td>\n",
       "      <td>-0.940457</td>\n",
       "    </tr>\n",
       "  </tbody>\n",
       "</table>\n",
       "</div>"
      ],
      "text/plain": [
       "   gender  SeniorCitizen  Partner  Dependents  PhoneService  MultipleLines  \\\n",
       "0       0              0        1           0             0              1   \n",
       "1       1              0        0           0             1              0   \n",
       "2       1              0        0           0             1              0   \n",
       "3       1              0        0           0             0              1   \n",
       "4       0              0        0           0             1              0   \n",
       "\n",
       "   InternetService  OnlineSecurity  OnlineBackup  DeviceProtection  \\\n",
       "0                0               0             2                 0   \n",
       "1                0               2             0                 2   \n",
       "2                0               2             2                 0   \n",
       "3                0               2             0                 2   \n",
       "4                1               0             0                 0   \n",
       "\n",
       "   TechSupport  StreamingTV  StreamingMovies  Contract  PaperlessBilling  \\\n",
       "0            0            0                0         0                 1   \n",
       "1            0            0                0         1                 0   \n",
       "2            0            0                0         0                 1   \n",
       "3            2            0                0         1                 0   \n",
       "4            0            0                0         0                 1   \n",
       "\n",
       "   PaymentMethod  Churn    tenure  MonthlyCharges  TotalCharges  \n",
       "0              2      0 -1.277445       -1.160323     -0.994194  \n",
       "1              3      0  0.066327       -0.259629     -0.173740  \n",
       "2              3      1 -1.236724       -0.362660     -0.959649  \n",
       "3              0      0  0.514251       -0.746535     -0.195248  \n",
       "4              2      1 -1.236724        0.197365     -0.940457  "
      ]
     },
     "execution_count": 1,
     "metadata": {},
     "output_type": "execute_result"
    }
   ],
   "source": [
    "import pandas as pd\n",
    "import numpy as np\n",
    "from scipy import stats\n",
    "import seaborn as sns\n",
    "import matplotlib.pyplot as plt\n",
    "\n",
    "#Scikit learn imports:\n",
    "from sklearn.preprocessing import LabelEncoder\n",
    "from sklearn.preprocessing import OneHotEncoder\n",
    "from sklearn.preprocessing import StandardScaler\n",
    "\n",
    "from sklearn.ensemble import RandomForestClassifier\n",
    "from sklearn.tree import DecisionTreeClassifier\n",
    "from sklearn import neighbors, metrics\n",
    "from sklearn.metrics import precision_score, recall_score, accuracy_score, f1_score\n",
    "from sklearn.metrics import confusion_matrix\n",
    "\n",
    "from sklearn.model_selection import cross_val_score\n",
    "from sklearn.model_selection import train_test_split\n",
    "\n",
    "#Other\n",
    "from src.dataprep import prep_df\n",
    "df = prep_df()\n",
    "df.head()"
   ]
  },
  {
   "cell_type": "markdown",
   "metadata": {},
   "source": [
    "## Quick Recap"
   ]
  },
  {
   "cell_type": "markdown",
   "metadata": {},
   "source": [
    "Models are biased in favor of non churned customers, which is not great if I really want to spot who's gonna churn, this is likely due to there being far more examples of not churned customers."
   ]
  },
  {
   "cell_type": "code",
   "execution_count": 3,
   "metadata": {},
   "outputs": [
    {
     "data": {
      "text/plain": [
       "(array([5163.,    0.,    0.,    0.,    0.,    0.,    0.,    0.,    0.,\n",
       "        1869.]),\n",
       " array([0. , 0.1, 0.2, 0.3, 0.4, 0.5, 0.6, 0.7, 0.8, 0.9, 1. ]),\n",
       " <BarContainer object of 10 artists>)"
      ]
     },
     "execution_count": 3,
     "metadata": {},
     "output_type": "execute_result"
    },
    {
     "data": {
      "image/png": "[encoded data removed]",
      "text/plain": [
       "<Figure size 432x288 with 1 Axes>"
      ]
     },
     "metadata": {
      "needs_background": "light"
     },
     "output_type": "display_data"
    }
   ],
   "source": [
    "plt.hist(df['Churn'])"
   ]
  },
  {
   "cell_type": "markdown",
   "metadata": {},
   "source": [
    "There are more than double the 0 (not churned) customers than 1 (churned) customers, I will fix this with Synthetic Minority Oversampling Technique, aka SMOTE"
   ]
  },
  {
   "cell_type": "code",
   "execution_count": 4,
   "metadata": {},
   "outputs": [
    {
     "name": "stdout",
     "output_type": "stream",
     "text": [
      "Collecting imblearn\n",
      "  Downloading imblearn-0.0-py2.py3-none-any.whl (1.9 kB)\n",
      "Collecting imbalanced-learn\n",
      "  Downloading imbalanced_learn-0.7.0-py3-none-any.whl (167 kB)\n",
      "\u001b[K     |████████████████████████████████| 167 kB 2.6 MB/s eta 0:00:01\n",
      "\u001b[?25hRequirement already satisfied: joblib>=0.11 in /Users/adamroth/opt/anaconda3/envs/telco/lib/python3.8/site-packages (from imbalanced-learn->imblearn) (0.16.0)\n",
      "Requirement already satisfied: scipy>=0.19.1 in /Users/adamroth/opt/anaconda3/envs/telco/lib/python3.8/site-packages (from imbalanced-learn->imblearn) (1.5.0)\n",
      "Requirement already satisfied: scikit-learn>=0.23 in /Users/adamroth/opt/anaconda3/envs/telco/lib/python3.8/site-packages (from imbalanced-learn->imblearn) (0.23.2)\n",
      "Requirement already satisfied: numpy>=1.13.3 in /Users/adamroth/opt/anaconda3/envs/telco/lib/python3.8/site-packages (from imbalanced-learn->imblearn) (1.19.1)\n",
      "Requirement already satisfied: threadpoolctl>=2.0.0 in /Users/adamroth/opt/anaconda3/envs/telco/lib/python3.8/site-packages (from scikit-learn>=0.23->imbalanced-learn->imblearn) (2.1.0)\n",
      "Installing collected packages: imbalanced-learn, imblearn\n",
      "Successfully installed imbalanced-learn-0.7.0 imblearn-0.0\n",
      "Note: you may need to restart the kernel to use updated packages.\n"
     ]
    }
   ],
   "source": [
    "pip install imblearn"
   ]
  },
  {
   "cell_type": "code",
   "execution_count": 5,
   "metadata": {},
   "outputs": [],
   "source": [
    "from imblearn.over_sampling import SMOTE"
   ]
  },
  {
   "cell_type": "code",
   "execution_count": 6,
   "metadata": {},
   "outputs": [],
   "source": [
    "smote = SMOTE()"
   ]
  },
  {
   "cell_type": "markdown",
   "metadata": {},
   "source": [
    "Before I apply SMOTE I want to get my train test split ready, as I do not want any 'made up' data added to my testing data. "
   ]
  },
  {
   "cell_type": "code",
   "execution_count": 7,
   "metadata": {},
   "outputs": [],
   "source": [
    "X = df.drop(['Churn'], axis = 1)\n",
    "y = df['Churn']\n",
    "X_train, X_test, y_train, y_test = train_test_split(X, y, test_size = .2, random_state = 7)\n",
    "X_t, X_val, y_t, y_val = train_test_split(X_train, y_train, test_size = .2, random_state = 7)"
   ]
  },
  {
   "cell_type": "markdown",
   "metadata": {},
   "source": [
    "Before SMOTE:"
   ]
  },
  {
   "cell_type": "code",
   "execution_count": 8,
   "metadata": {},
   "outputs": [
    {
     "data": {
      "text/plain": [
       "(array([3304.,    0.,    0.,    0.,    0.,    0.,    0.,    0.,    0.,\n",
       "        1196.]),\n",
       " array([0. , 0.1, 0.2, 0.3, 0.4, 0.5, 0.6, 0.7, 0.8, 0.9, 1. ]),\n",
       " <BarContainer object of 10 artists>)"
      ]
     },
     "execution_count": 8,
     "metadata": {},
     "output_type": "execute_result"
    },
    {
     "data": {
      "image/png": "[encoded data removed]",
      "text/plain": [
       "<Figure size 432x288 with 1 Axes>"
      ]
     },
     "metadata": {
      "needs_background": "light"
     },
     "output_type": "display_data"
    }
   ],
   "source": [
    "plt.hist(y_t)"
   ]
  },
  {
   "cell_type": "code",
   "execution_count": 9,
   "metadata": {},
   "outputs": [],
   "source": [
    "X_t_s, y_t_s = smote.fit_sample(X_t, y_t)"
   ]
  },
  {
   "cell_type": "markdown",
   "metadata": {},
   "source": [
    "After SMOTE:"
   ]
  },
  {
   "cell_type": "code",
   "execution_count": 10,
   "metadata": {},
   "outputs": [
    {
     "data": {
      "text/plain": [
       "(array([3304.,    0.,    0.,    0.,    0.,    0.,    0.,    0.,    0.,\n",
       "        3304.]),\n",
       " array([0. , 0.1, 0.2, 0.3, 0.4, 0.5, 0.6, 0.7, 0.8, 0.9, 1. ]),\n",
       " <BarContainer object of 10 artists>)"
      ]
     },
     "execution_count": 10,
     "metadata": {},
     "output_type": "execute_result"
    },
    {
     "data": {
      "image/png": "[encoded data removed]",
      "text/plain": [
       "<Figure size 432x288 with 1 Axes>"
      ]
     },
     "metadata": {
      "needs_background": "light"
     },
     "output_type": "display_data"
    }
   ],
   "source": [
    "plt.hist(y_t_s)"
   ]
  },
  {
   "cell_type": "markdown",
   "metadata": {},
   "source": [
    "Perfect, hope this helps"
   ]
  },
  {
   "cell_type": "markdown",
   "metadata": {},
   "source": [
    "### KNN"
   ]
  },
  {
   "cell_type": "code",
   "execution_count": 11,
   "metadata": {},
   "outputs": [
    {
     "name": "stdout",
     "output_type": "stream",
     "text": [
      "Train:\n",
      "0.8112429087158329\n",
      "Val:\n",
      "0.43458980044345896\n"
     ]
    }
   ],
   "source": [
    "knn = neighbors.KNeighborsClassifier()\n",
    "knn.fit(X_t_s, y_t_s)\n",
    "train_pred = knn.predict(X_t_s)\n",
    "print(\"Train:\")\n",
    "print(recall_score(train_pred, y_t_s))\n",
    "val_pred = knn.predict(X_val)\n",
    "print(\"Val:\")\n",
    "print(recall_score(val_pred, y_val))"
   ]
  },
  {
   "cell_type": "code",
   "execution_count": 16,
   "metadata": {},
   "outputs": [
    {
     "name": "stdout",
     "output_type": "stream",
     "text": [
      "Train:\n",
      "1.0\n",
      "Val:\n",
      "0.4574898785425101\n"
     ]
    }
   ],
   "source": [
    "knn = neighbors.KNeighborsClassifier(n_neighbors = 2, p = 2)\n",
    "knn.fit(X_t_s, y_t_s)\n",
    "train_pred = knn.predict(X_t_s)\n",
    "print(\"Train:\")\n",
    "print(recall_score(train_pred, y_t_s))\n",
    "val_pred = knn.predict(X_val)\n",
    "print(\"Val:\")\n",
    "print(recall_score(val_pred, y_val))"
   ]
  },
  {
   "cell_type": "code",
   "execution_count": 17,
   "metadata": {},
   "outputs": [
    {
     "name": "stdout",
     "output_type": "stream",
     "text": [
      "Train:\n",
      "0.8533262089233236\n",
      "Val:\n",
      "0.42206235011990406\n"
     ]
    }
   ],
   "source": [
    "knn = neighbors.KNeighborsClassifier(n_neighbors = 3, p = 2)\n",
    "knn.fit(X_t_s, y_t_s)\n",
    "train_pred = knn.predict(X_t_s)\n",
    "print(\"Train:\")\n",
    "print(recall_score(train_pred, y_t_s))\n",
    "val_pred = knn.predict(X_val)\n",
    "print(\"Val:\")\n",
    "print(recall_score(val_pred, y_val))"
   ]
  },
  {
   "cell_type": "code",
   "execution_count": 18,
   "metadata": {},
   "outputs": [
    {
     "name": "stdout",
     "output_type": "stream",
     "text": [
      "Train:\n",
      "0.7838383838383839\n",
      "Val:\n",
      "0.42071881606765327\n"
     ]
    }
   ],
   "source": [
    "knn = neighbors.KNeighborsClassifier(n_neighbors = 7, p = 2)\n",
    "knn.fit(X_t_s, y_t_s)\n",
    "train_pred = knn.predict(X_t_s)\n",
    "print(\"Train:\")\n",
    "print(recall_score(train_pred, y_t_s))\n",
    "val_pred = knn.predict(X_val)\n",
    "print(\"Val:\")\n",
    "print(recall_score(val_pred, y_val))"
   ]
  },
  {
   "cell_type": "code",
   "execution_count": 19,
   "metadata": {},
   "outputs": [
    {
     "name": "stdout",
     "output_type": "stream",
     "text": [
      "Train:\n",
      "0.7922628510863805\n",
      "Val:\n",
      "0.43207126948775054\n"
     ]
    }
   ],
   "source": [
    "knn = neighbors.KNeighborsClassifier(n_neighbors = 10, p = 2)\n",
    "knn.fit(X_t_s, y_t_s)\n",
    "train_pred = knn.predict(X_t_s)\n",
    "print(\"Train:\")\n",
    "print(recall_score(train_pred, y_t_s))\n",
    "val_pred = knn.predict(X_val)\n",
    "print(\"Val:\")\n",
    "print(recall_score(val_pred, y_val))"
   ]
  },
  {
   "cell_type": "code",
   "execution_count": 21,
   "metadata": {},
   "outputs": [
    {
     "name": "stdout",
     "output_type": "stream",
     "text": [
      "Train:\n",
      "0.7533632286995515\n",
      "Val:\n",
      "0.43259557344064387\n"
     ]
    }
   ],
   "source": [
    "knn = neighbors.KNeighborsClassifier(n_neighbors = 13, p = 2)\n",
    "knn.fit(X_t_s, y_t_s)\n",
    "train_pred = knn.predict(X_t_s)\n",
    "print(\"Train:\")\n",
    "print(recall_score(train_pred, y_t_s))\n",
    "val_pred = knn.predict(X_val)\n",
    "print(\"Val:\")\n",
    "print(recall_score(val_pred, y_val))"
   ]
  },
  {
   "cell_type": "code",
   "execution_count": 23,
   "metadata": {},
   "outputs": [
    {
     "name": "stdout",
     "output_type": "stream",
     "text": [
      "Train:\n",
      "0.7635591102224444\n",
      "Val:\n",
      "0.4291497975708502\n"
     ]
    }
   ],
   "source": [
    "knn = neighbors.KNeighborsClassifier(n_neighbors = 11, p = 2)\n",
    "knn.fit(X_t_s, y_t_s)\n",
    "train_pred = knn.predict(X_t_s)\n",
    "print(\"Train:\")\n",
    "print(recall_score(train_pred, y_t_s))\n",
    "val_pred = knn.predict(X_val)\n",
    "print(\"Val:\")\n",
    "print(recall_score(val_pred, y_val))"
   ]
  },
  {
   "cell_type": "code",
   "execution_count": 24,
   "metadata": {
    "scrolled": true
   },
   "outputs": [
    {
     "name": "stdout",
     "output_type": "stream",
     "text": [
      "Train:\n",
      "0.7785939139559287\n",
      "Val:\n",
      "0.4400871459694989\n"
     ]
    }
   ],
   "source": [
    "knn = neighbors.KNeighborsClassifier(n_neighbors = 12, p = 2)\n",
    "knn.fit(X_t_s, y_t_s)\n",
    "train_pred = knn.predict(X_t_s)\n",
    "print(\"Train:\")\n",
    "print(recall_score(train_pred, y_t_s))\n",
    "val_pred = knn.predict(X_val)\n",
    "print(\"Val:\")\n",
    "print(recall_score(val_pred, y_val))"
   ]
  },
  {
   "cell_type": "code",
   "execution_count": 77,
   "metadata": {},
   "outputs": [
    {
     "name": "stdout",
     "output_type": "stream",
     "text": [
      "Train:\n",
      "0.8214285714285714\n",
      "Val:\n",
      "0.6995555555555556\n"
     ]
    }
   ],
   "source": [
    "knn = neighbors.KNeighborsClassifier(n_neighbors = 12, p = 2)\n",
    "knn.fit(X_t_s, y_t_s)\n",
    "\n",
    "print(\"Train:\")\n",
    "print(knn.score(X_t_s, y_t_s))\n",
    "\n",
    "print(\"Val:\")\n",
    "print(knn.score(X_val, y_val))"
   ]
  },
  {
   "cell_type": "code",
   "execution_count": 25,
   "metadata": {},
   "outputs": [
    {
     "name": "stdout",
     "output_type": "stream",
     "text": [
      "[[585 257]\n",
      " [ 81 202]]\n"
     ]
    },
    {
     "data": {
      "text/plain": [
       "<AxesSubplot:>"
      ]
     },
     "execution_count": 25,
     "metadata": {},
     "output_type": "execute_result"
    },
    {
     "data": {
      "image/png": "[encoded data removed]",
      "text/plain": [
       "<Figure size 432x288 with 2 Axes>"
      ]
     },
     "metadata": {
      "needs_background": "light"
     },
     "output_type": "display_data"
    }
   ],
   "source": [
    "y_hat = knn.predict(X_val)\n",
    "cf_mat = confusion_matrix(y_val, y_hat)\n",
    "print(cf_mat)\n",
    "sns.heatmap(cf_mat, annot=True)"
   ]
  },
  {
   "cell_type": "code",
   "execution_count": 26,
   "metadata": {},
   "outputs": [
    {
     "data": {
      "text/plain": [
       "(array([666.,   0.,   0.,   0.,   0.,   0.,   0.,   0.,   0., 459.]),\n",
       " array([0. , 0.1, 0.2, 0.3, 0.4, 0.5, 0.6, 0.7, 0.8, 0.9, 1. ]),\n",
       " <BarContainer object of 10 artists>)"
      ]
     },
     "execution_count": 26,
     "metadata": {},
     "output_type": "execute_result"
    },
    {
     "data": {
      "image/png": "[encoded data removed]",
      "text/plain": [
       "<Figure size 432x288 with 1 Axes>"
      ]
     },
     "metadata": {
      "needs_background": "light"
     },
     "output_type": "display_data"
    }
   ],
   "source": [
    "plt.hist(y_hat)"
   ]
  },
  {
   "cell_type": "markdown",
   "metadata": {},
   "source": [
    "Now the bias is towards churned customers, remember that this is what the ture results should be:"
   ]
  },
  {
   "cell_type": "code",
   "execution_count": 28,
   "metadata": {
    "scrolled": true
   },
   "outputs": [
    {
     "data": {
      "text/plain": [
       "(array([842.,   0.,   0.,   0.,   0.,   0.,   0.,   0.,   0., 283.]),\n",
       " array([0. , 0.1, 0.2, 0.3, 0.4, 0.5, 0.6, 0.7, 0.8, 0.9, 1. ]),\n",
       " <BarContainer object of 10 artists>)"
      ]
     },
     "execution_count": 28,
     "metadata": {},
     "output_type": "execute_result"
    },
    {
     "data": {
      "image/png": "[encoded data removed]",
      "text/plain": [
       "<Figure size 432x288 with 1 Axes>"
      ]
     },
     "metadata": {
      "needs_background": "light"
     },
     "output_type": "display_data"
    }
   ],
   "source": [
    "plt.hist(y_val)"
   ]
  },
  {
   "cell_type": "markdown",
   "metadata": {},
   "source": [
    "This is still improvment, I'd rather it over predict customer churn than not at all"
   ]
  },
  {
   "cell_type": "markdown",
   "metadata": {},
   "source": [
    "### Random Forest"
   ]
  },
  {
   "cell_type": "code",
   "execution_count": 29,
   "metadata": {},
   "outputs": [
    {
     "name": "stdout",
     "output_type": "stream",
     "text": [
      "Train:\n",
      "0.9942037827943868\n",
      "Val:\n",
      "0.5379310344827586\n"
     ]
    }
   ],
   "source": [
    "rf = RandomForestClassifier(n_estimators=10, max_depth=None, max_features='auto', random_state = 7)\n",
    "\n",
    "rf.fit(X_t_s, y_t_s)\n",
    "train_pred = rf.predict(X_t_s)\n",
    "print(\"Train:\")\n",
    "print(recall_score(train_pred, y_t_s))\n",
    "val_pred = rf.predict(X_val)\n",
    "print(\"Val:\")\n",
    "print(recall_score(val_pred, y_val))"
   ]
  },
  {
   "cell_type": "code",
   "execution_count": 30,
   "metadata": {},
   "outputs": [
    {
     "name": "stdout",
     "output_type": "stream",
     "text": [
      "Train:\n",
      "0.9972826086956522\n",
      "Val:\n",
      "0.5382262996941896\n"
     ]
    }
   ],
   "source": [
    "rf = RandomForestClassifier(n_estimators=100, max_depth=None, max_features='auto', random_state = 7)\n",
    "\n",
    "rf.fit(X_t_s, y_t_s)\n",
    "train_pred = rf.predict(X_t_s)\n",
    "print(\"Train:\")\n",
    "print(recall_score(train_pred, y_t_s))\n",
    "val_pred = rf.predict(X_val)\n",
    "print(\"Val:\")\n",
    "print(recall_score(val_pred, y_val))"
   ]
  },
  {
   "cell_type": "code",
   "execution_count": 34,
   "metadata": {},
   "outputs": [
    {
     "name": "stdout",
     "output_type": "stream",
     "text": [
      "Train:\n",
      "0.997583081570997\n",
      "Val:\n",
      "0.5349544072948328\n"
     ]
    }
   ],
   "source": [
    "rf = RandomForestClassifier(n_estimators=200, max_depth=None, max_features='auto', random_state = 7)\n",
    "\n",
    "rf.fit(X_t_s, y_t_s)\n",
    "train_pred = rf.predict(X_t_s)\n",
    "print(\"Train:\")\n",
    "print(recall_score(train_pred, y_t_s))\n",
    "val_pred = rf.predict(X_val)\n",
    "print(\"Val:\")\n",
    "print(recall_score(val_pred, y_val))"
   ]
  },
  {
   "cell_type": "code",
   "execution_count": 35,
   "metadata": {},
   "outputs": [
    {
     "name": "stdout",
     "output_type": "stream",
     "text": [
      "Train:\n",
      "0.997583081570997\n",
      "Val:\n",
      "0.5421686746987951\n"
     ]
    }
   ],
   "source": [
    "rf = RandomForestClassifier(n_estimators=300, max_depth=None, max_features='auto', random_state = 7)\n",
    "\n",
    "rf.fit(X_t_s, y_t_s)\n",
    "train_pred = rf.predict(X_t_s)\n",
    "print(\"Train:\")\n",
    "print(recall_score(train_pred, y_t_s))\n",
    "val_pred = rf.predict(X_val)\n",
    "print(\"Val:\")\n",
    "print(recall_score(val_pred, y_val))"
   ]
  },
  {
   "cell_type": "code",
   "execution_count": 36,
   "metadata": {},
   "outputs": [
    {
     "name": "stdout",
     "output_type": "stream",
     "text": [
      "Train:\n",
      "0.9972826086956522\n",
      "Val:\n",
      "0.5402985074626866\n"
     ]
    }
   ],
   "source": [
    "rf = RandomForestClassifier(n_estimators=350, max_depth=None, max_features='auto', random_state = 7)\n",
    "\n",
    "rf.fit(X_t_s, y_t_s)\n",
    "train_pred = rf.predict(X_t_s)\n",
    "print(\"Train:\")\n",
    "print(recall_score(train_pred, y_t_s))\n",
    "val_pred = rf.predict(X_val)\n",
    "print(\"Val:\")\n",
    "print(recall_score(val_pred, y_val))"
   ]
  },
  {
   "cell_type": "code",
   "execution_count": 37,
   "metadata": {},
   "outputs": [
    {
     "name": "stdout",
     "output_type": "stream",
     "text": [
      "Train:\n",
      "0.997583081570997\n",
      "Val:\n",
      "0.5416666666666666\n"
     ]
    }
   ],
   "source": [
    "rf = RandomForestClassifier(n_estimators=325, max_depth=None, max_features='auto', random_state = 7)\n",
    "\n",
    "rf.fit(X_t_s, y_t_s)\n",
    "train_pred = rf.predict(X_t_s)\n",
    "print(\"Train:\")\n",
    "print(recall_score(train_pred, y_t_s))\n",
    "val_pred = rf.predict(X_val)\n",
    "print(\"Val:\")\n",
    "print(recall_score(val_pred, y_val))"
   ]
  },
  {
   "cell_type": "markdown",
   "metadata": {},
   "source": [
    "I'm gonna try some lower n_estimators to see how it works out, but 300 looks like its winning so far"
   ]
  },
  {
   "cell_type": "code",
   "execution_count": 38,
   "metadata": {},
   "outputs": [
    {
     "name": "stdout",
     "output_type": "stream",
     "text": [
      "Train:\n",
      "0.9966777408637874\n",
      "Val:\n",
      "0.5374592833876222\n"
     ]
    }
   ],
   "source": [
    "rf = RandomForestClassifier(n_estimators=30, max_depth=None, max_features='auto', random_state = 7)\n",
    "\n",
    "rf.fit(X_t_s, y_t_s)\n",
    "train_pred = rf.predict(X_t_s)\n",
    "print(\"Train:\")\n",
    "print(recall_score(train_pred, y_t_s))\n",
    "val_pred = rf.predict(X_val)\n",
    "print(\"Val:\")\n",
    "print(recall_score(val_pred, y_val))"
   ]
  },
  {
   "cell_type": "code",
   "execution_count": 39,
   "metadata": {},
   "outputs": [
    {
     "name": "stdout",
     "output_type": "stream",
     "text": [
      "Train:\n",
      "0.9975816203143894\n",
      "Val:\n",
      "0.5391849529780565\n"
     ]
    }
   ],
   "source": [
    "rf = RandomForestClassifier(n_estimators=50, max_depth=None, max_features='auto', random_state = 7)\n",
    "\n",
    "rf.fit(X_t_s, y_t_s)\n",
    "train_pred = rf.predict(X_t_s)\n",
    "print(\"Train:\")\n",
    "print(recall_score(train_pred, y_t_s))\n",
    "val_pred = rf.predict(X_val)\n",
    "print(\"Val:\")\n",
    "print(recall_score(val_pred, y_val))"
   ]
  },
  {
   "cell_type": "markdown",
   "metadata": {},
   "source": [
    "yup, 300 wins, onto max_depth"
   ]
  },
  {
   "cell_type": "code",
   "execution_count": 48,
   "metadata": {},
   "outputs": [
    {
     "name": "stdout",
     "output_type": "stream",
     "text": [
      "Train:\n",
      "0.7631368364897306\n",
      "Val:\n",
      "0.49671772428884026\n"
     ]
    }
   ],
   "source": [
    "rf = RandomForestClassifier(n_estimators=300, max_depth=5, max_features='auto', random_state = 7)\n",
    "\n",
    "rf.fit(X_t_s, y_t_s)\n",
    "train_pred = rf.predict(X_t_s)\n",
    "print(\"Train:\")\n",
    "print(recall_score(train_pred, y_t_s))\n",
    "val_pred = rf.predict(X_val)\n",
    "print(\"Val:\")\n",
    "print(recall_score(val_pred, y_val))"
   ]
  },
  {
   "cell_type": "code",
   "execution_count": 49,
   "metadata": {},
   "outputs": [
    {
     "name": "stdout",
     "output_type": "stream",
     "text": [
      "Train:\n",
      "0.862830651758931\n",
      "Val:\n",
      "0.5268542199488491\n"
     ]
    }
   ],
   "source": [
    "rf = RandomForestClassifier(n_estimators=300, max_depth=10, max_features='auto', random_state = 7)\n",
    "\n",
    "rf.fit(X_t_s, y_t_s)\n",
    "train_pred = rf.predict(X_t_s)\n",
    "print(\"Train:\")\n",
    "print(recall_score(train_pred, y_t_s))\n",
    "val_pred = rf.predict(X_val)\n",
    "print(\"Val:\")\n",
    "print(recall_score(val_pred, y_val))"
   ]
  },
  {
   "cell_type": "code",
   "execution_count": 59,
   "metadata": {},
   "outputs": [
    {
     "name": "stdout",
     "output_type": "stream",
     "text": [
      "Train:\n",
      "0.7919229740572346\n",
      "Val:\n",
      "0.5114678899082569\n"
     ]
    }
   ],
   "source": [
    "rf = RandomForestClassifier(n_estimators=300, max_depth=7, max_features='auto', random_state = 7)\n",
    "\n",
    "rf.fit(X_t_s, y_t_s)\n",
    "train_pred = rf.predict(X_t_s)\n",
    "print(\"Train:\")\n",
    "print(recall_score(train_pred, y_t_s))\n",
    "val_pred = rf.predict(X_val)\n",
    "print(\"Val:\")\n",
    "print(recall_score(val_pred, y_val))"
   ]
  },
  {
   "cell_type": "code",
   "execution_count": 50,
   "metadata": {},
   "outputs": [
    {
     "name": "stdout",
     "output_type": "stream",
     "text": [
      "Train:\n",
      "0.9683191551774714\n",
      "Val:\n",
      "0.5404624277456648\n"
     ]
    }
   ],
   "source": [
    "rf = RandomForestClassifier(n_estimators=300, max_depth=15, max_features='auto', random_state = 7)\n",
    "\n",
    "rf.fit(X_t_s, y_t_s)\n",
    "train_pred = rf.predict(X_t_s)\n",
    "print(\"Train:\")\n",
    "print(recall_score(train_pred, y_t_s))\n",
    "val_pred = rf.predict(X_val)\n",
    "print(\"Val:\")\n",
    "print(recall_score(val_pred, y_val))"
   ]
  },
  {
   "cell_type": "code",
   "execution_count": 51,
   "metadata": {},
   "outputs": [
    {
     "name": "stdout",
     "output_type": "stream",
     "text": [
      "Train:\n",
      "0.9972817879794624\n",
      "Val:\n",
      "0.5373134328358209\n"
     ]
    }
   ],
   "source": [
    "rf = RandomForestClassifier(n_estimators=300, max_depth=20, max_features='auto', random_state = 7)\n",
    "\n",
    "rf.fit(X_t_s, y_t_s)\n",
    "train_pred = rf.predict(X_t_s)\n",
    "print(\"Train:\")\n",
    "print(recall_score(train_pred, y_t_s))\n",
    "val_pred = rf.predict(X_val)\n",
    "print(\"Val:\")\n",
    "print(recall_score(val_pred, y_val))"
   ]
  },
  {
   "cell_type": "code",
   "execution_count": 53,
   "metadata": {},
   "outputs": [
    {
     "name": "stdout",
     "output_type": "stream",
     "text": [
      "Train:\n",
      "0.9789567279193835\n",
      "Val:\n",
      "0.5311572700296736\n"
     ]
    }
   ],
   "source": [
    "rf = RandomForestClassifier(n_estimators=300, max_depth=16, max_features='auto', random_state = 7)\n",
    "\n",
    "rf.fit(X_t_s, y_t_s)\n",
    "train_pred = rf.predict(X_t_s)\n",
    "print(\"Train:\")\n",
    "print(recall_score(train_pred, y_t_s))\n",
    "val_pred = rf.predict(X_val)\n",
    "print(\"Val:\")\n",
    "print(recall_score(val_pred, y_val))"
   ]
  },
  {
   "cell_type": "code",
   "execution_count": 54,
   "metadata": {},
   "outputs": [
    {
     "name": "stdout",
     "output_type": "stream",
     "text": [
      "Train:\n",
      "0.9520923520923521\n",
      "Val:\n",
      "0.5266106442577031\n"
     ]
    }
   ],
   "source": [
    "rf = RandomForestClassifier(n_estimators=300, max_depth=14, max_features='auto', random_state = 7)\n",
    "\n",
    "rf.fit(X_t_s, y_t_s)\n",
    "train_pred = rf.predict(X_t_s)\n",
    "print(\"Train:\")\n",
    "print(recall_score(train_pred, y_t_s))\n",
    "val_pred = rf.predict(X_val)\n",
    "print(\"Val:\")\n",
    "print(recall_score(val_pred, y_val))"
   ]
  },
  {
   "cell_type": "markdown",
   "metadata": {},
   "source": [
    "max_depth = 15 wins, but this is still overfit, lets hope max_features helps out"
   ]
  },
  {
   "cell_type": "code",
   "execution_count": 55,
   "metadata": {},
   "outputs": [
    {
     "name": "stdout",
     "output_type": "stream",
     "text": [
      "Train:\n",
      "0.9777909387029908\n",
      "Val:\n",
      "0.5331412103746398\n"
     ]
    }
   ],
   "source": [
    "rf = RandomForestClassifier(n_estimators=300, max_depth=15, max_features=15, random_state = 7)\n",
    "\n",
    "rf.fit(X_t_s, y_t_s)\n",
    "train_pred = rf.predict(X_t_s)\n",
    "print(\"Train:\")\n",
    "print(recall_score(train_pred, y_t_s))\n",
    "val_pred = rf.predict(X_val)\n",
    "print(\"Val:\")\n",
    "print(recall_score(val_pred, y_val))"
   ]
  },
  {
   "cell_type": "code",
   "execution_count": 56,
   "metadata": {},
   "outputs": [
    {
     "name": "stdout",
     "output_type": "stream",
     "text": [
      "Train:\n",
      "0.9743287105340809\n",
      "Val:\n",
      "0.5304347826086957\n"
     ]
    }
   ],
   "source": [
    "rf = RandomForestClassifier(n_estimators=300, max_depth=15, max_features=10, random_state = 7)\n",
    "\n",
    "rf.fit(X_t_s, y_t_s)\n",
    "train_pred = rf.predict(X_t_s)\n",
    "print(\"Train:\")\n",
    "print(recall_score(train_pred, y_t_s))\n",
    "val_pred = rf.predict(X_val)\n",
    "print(\"Val:\")\n",
    "print(recall_score(val_pred, y_val))"
   ]
  },
  {
   "cell_type": "code",
   "execution_count": 57,
   "metadata": {},
   "outputs": [
    {
     "name": "stdout",
     "output_type": "stream",
     "text": [
      "Train:\n",
      "0.9700352526439483\n",
      "Val:\n",
      "0.5397727272727273\n"
     ]
    }
   ],
   "source": [
    "rf = RandomForestClassifier(n_estimators=300, max_depth=15, max_features=5, random_state = 7)\n",
    "\n",
    "rf.fit(X_t_s, y_t_s)\n",
    "train_pred = rf.predict(X_t_s)\n",
    "print(\"Train:\")\n",
    "print(recall_score(train_pred, y_t_s))\n",
    "val_pred = rf.predict(X_val)\n",
    "print(\"Val:\")\n",
    "print(recall_score(val_pred, y_val))"
   ]
  },
  {
   "cell_type": "code",
   "execution_count": 58,
   "metadata": {},
   "outputs": [
    {
     "name": "stdout",
     "output_type": "stream",
     "text": [
      "Train:\n",
      "0.9646405610753945\n",
      "Val:\n",
      "0.5377906976744186\n"
     ]
    }
   ],
   "source": [
    "rf = RandomForestClassifier(n_estimators=300, max_depth=15, max_features=3, random_state = 7)\n",
    "\n",
    "rf.fit(X_t_s, y_t_s)\n",
    "train_pred = rf.predict(X_t_s)\n",
    "print(\"Train:\")\n",
    "print(recall_score(train_pred, y_t_s))\n",
    "val_pred = rf.predict(X_val)\n",
    "print(\"Val:\")\n",
    "print(recall_score(val_pred, y_val))"
   ]
  },
  {
   "cell_type": "markdown",
   "metadata": {},
   "source": [
    "I'm going to go back to using a lower max_depth to make the model less overfit, then try and optimize it more"
   ]
  },
  {
   "cell_type": "markdown",
   "metadata": {},
   "source": [
    "I toyed around for a bit with the n_estimators again and managed to get to about 53% recall, and about 77% accuracy. While this isn't fantastic it is certainly an improvment, originaly the model would almost only predict 'not churned' which made the accuracy and recall look better than what they really were because the dataset was very lopsided in favor of 'not churned'. Now 'churned' customers can be identified signifigantly better than before: "
   ]
  },
  {
   "cell_type": "code",
   "execution_count": 74,
   "metadata": {},
   "outputs": [
    {
     "name": "stdout",
     "output_type": "stream",
     "text": [
      "Train:\n",
      "0.86735807860262\n",
      "Val:\n",
      "0.5271317829457365\n"
     ]
    }
   ],
   "source": [
    "rf = RandomForestClassifier(n_estimators=255, max_depth=10, max_features=5, random_state = 7)\n",
    "\n",
    "rf.fit(X_t_s, y_t_s)\n",
    "train_pred = rf.predict(X_t_s)\n",
    "print(\"Train:\")\n",
    "print(recall_score(train_pred, y_t_s))\n",
    "val_pred = rf.predict(X_val)\n",
    "print(\"Val:\")\n",
    "print(recall_score(val_pred, y_val))"
   ]
  },
  {
   "cell_type": "code",
   "execution_count": 75,
   "metadata": {},
   "outputs": [
    {
     "name": "stdout",
     "output_type": "stream",
     "text": [
      "Train:\n",
      "0.9073849878934624\n",
      "Val:\n",
      "0.7671111111111111\n"
     ]
    }
   ],
   "source": [
    "rf = RandomForestClassifier(n_estimators=255, max_depth=10, max_features=5, random_state = 7)\n",
    "\n",
    "rf.fit(X_t_s, y_t_s)\n",
    "\n",
    "print(\"Train:\")\n",
    "print(rf.score(X_t_s, y_t_s))\n",
    "\n",
    "print(\"Val:\")\n",
    "print(rf.score(X_val, y_val))"
   ]
  },
  {
   "cell_type": "code",
   "execution_count": 76,
   "metadata": {},
   "outputs": [
    {
     "name": "stdout",
     "output_type": "stream",
     "text": [
      "[[659 183]\n",
      " [ 79 204]]\n"
     ]
    },
    {
     "data": {
      "text/plain": [
       "<AxesSubplot:>"
      ]
     },
     "execution_count": 76,
     "metadata": {},
     "output_type": "execute_result"
    },
    {
     "data": {
      "image/png": "[encoded data removed]",
      "text/plain": [
       "<Figure size 432x288 with 2 Axes>"
      ]
     },
     "metadata": {
      "needs_background": "light"
     },
     "output_type": "display_data"
    }
   ],
   "source": [
    "y_hat = rf.predict(X_val)\n",
    "cf_mat = confusion_matrix(y_val, y_hat)\n",
    "print(cf_mat)\n",
    "sns.heatmap(cf_mat, annot=True)"
   ]
  },
  {
   "cell_type": "markdown",
   "metadata": {},
   "source": [
    "This one is better than the KNN by just a little bit, but it still won. "
   ]
  }
 ],
 "metadata": {
  "kernelspec": {
   "display_name": "telco",
   "language": "python",
   "name": "telco"
  },
  "language_info": {
   "codemirror_mode": {
    "name": "ipython",
    "version": 3
   },
   "file_extension": ".py",
   "mimetype": "text/x-python",
   "name": "python",
   "nbconvert_exporter": "python",
   "pygments_lexer": "ipython3",
   "version": "3.8.5"
  }
 },
 "nbformat": 4,
 "nbformat_minor": 4
}
