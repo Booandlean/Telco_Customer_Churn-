{
 "cells": [
  {
   "cell_type": "markdown",
   "metadata": {},
   "source": [
    "# Telco Customer Churn"
   ]
  },
  {
   "cell_type": "markdown",
   "metadata": {},
   "source": [
    "Predicting which customers are most likely to leave the company to better allocate their recources.\n",
    "\n",
    "    I don't actually work for them I'm just doing this for fun :)"
   ]
  },
  {
   "cell_type": "markdown",
   "metadata": {},
   "source": [
    "## Project Goal"
   ]
  },
  {
   "cell_type": "markdown",
   "metadata": {},
   "source": [
    "This project aims to create a model that can take in data about customers of the telco company and predicts if they are going to churn or not."
   ]
  },
  {
   "cell_type": "markdown",
   "metadata": {},
   "source": [
    "## Aims"
   ]
  },
  {
   "cell_type": "markdown",
   "metadata": {},
   "source": [
    "This project intends to:\n",
    "    -Take in the data of ~7,000 telco customers and predict if they will churn or not.\n",
    "    -Find variables that make a customer more at risk of churning."
   ]
  },
  {
   "cell_type": "markdown",
   "metadata": {},
   "source": [
    "## Definitions"
   ]
  },
  {
   "cell_type": "markdown",
   "metadata": {},
   "source": [
    "Churn: Also known as customer attrition, when a customer stops doing business with an entity, in this case, the Teclo company."
   ]
  },
  {
   "cell_type": "markdown",
   "metadata": {},
   "source": [
    "## Data"
   ]
  },
  {
   "cell_type": "markdown",
   "metadata": {},
   "source": [
    "This project uses [this dataset from kaggle](https://www.kaggle.com/blastchar/telco-customer-churn). It has numerical and categorical data from 7043 customers ranging from their total yearly charges to if the customer has dependents or of they are a senior citizen (etc.). \n",
    "\n",
    "All boolean + categorical data was fit to sklearn's label encoder so it could be used in predictive models and all numerical data was run through sklearn's standard scaler to avoid skew from some numerical columns having larger range than others. The only column not used was customer ID as it could only be harmful to include such information. All the data preprocessing can be found in the src folder in dataprep.py. \n",
    "\n",
    "Two train test splits were done to gain a test set to evaluate the final model, and a validation set to train the data and make validation tests to see how its doing without using the test data as to aviod bias. \n",
    "\n",
    "    X = df.drop(['Churn'],  axis=1)\n",
    "    y = df['Churn']\n",
    "\n",
    "    X_train, X_test, y_train, y_test = train_test_split(X, y, test_size = .2, random_state = 7)\n",
    "    X_t, X_val, y_t, y_val = train_test_split(X_train, y_train, test_size = .2, random_state = 7)"
   ]
  },
  {
   "cell_type": "markdown",
   "metadata": {},
   "source": [
    "## EDA"
   ]
  },
  {
   "cell_type": "code",
   "execution_count": null,
   "metadata": {},
   "outputs": [],
   "source": []
  },
  {
   "cell_type": "code",
   "execution_count": null,
   "metadata": {},
   "outputs": [],
   "source": []
  },
  {
   "cell_type": "code",
   "execution_count": null,
   "metadata": {},
   "outputs": [],
   "source": []
  },
  {
   "cell_type": "code",
   "execution_count": null,
   "metadata": {},
   "outputs": [],
   "source": []
  }
 ],
 "metadata": {
  "kernelspec": {
   "display_name": "telco",
   "language": "python",
   "name": "telco"
  },
  "language_info": {
   "codemirror_mode": {
    "name": "ipython",
    "version": 3
   },
   "file_extension": ".py",
   "mimetype": "text/x-python",
   "name": "python",
   "nbconvert_exporter": "python",
   "pygments_lexer": "ipython3",
   "version": "3.8.5"
  }
 },
 "nbformat": 4,
 "nbformat_minor": 4
}
