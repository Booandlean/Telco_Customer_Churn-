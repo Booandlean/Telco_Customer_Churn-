{
 "cells": [
  {
   "cell_type": "markdown",
   "metadata": {},
   "source": [
    "## Imports"
   ]
  },
  {
   "cell_type": "code",
   "execution_count": 1,
   "metadata": {},
   "outputs": [],
   "source": [
    "import pandas as pd\n",
    "import numpy as np\n",
    "from scipy import stats\n",
    "import seaborn as sns\n",
    "import matplotlib.pyplot as plt\n",
    "\n",
    "#Scikit learn imports:\n",
    "from sklearn.preprocessing import LabelEncoder\n",
    "from sklearn.preprocessing import OneHotEncoder\n",
    "from sklearn.preprocessing import StandardScaler\n",
    "\n",
    "from sklearn.ensemble import RandomForestClassifier\n",
    "from sklearn.tree import DecisionTreeClassifier\n",
    "from sklearn import neighbors, metrics\n",
    "from sklearn.metrics import precision_score, recall_score, accuracy_score, f1_score\n",
    "from sklearn.metrics import confusion_matrix\n",
    "\n",
    "from sklearn.model_selection import cross_val_score\n",
    "from sklearn.model_selection import train_test_split\n",
    "\n",
    "#from src\n",
    "from src.dataprep import prep_df\n",
    "\n",
    "#SMOTE\n",
    "from imblearn.over_sampling import SMOTE"
   ]
  },
  {
   "cell_type": "markdown",
   "metadata": {},
   "source": [
    "## Model Prep"
   ]
  },
  {
   "cell_type": "code",
   "execution_count": 2,
   "metadata": {},
   "outputs": [],
   "source": [
    "df = prep_df()\n",
    "\n",
    "X = df.drop(['Churn'], axis = 1)\n",
    "y = df['Churn']\n",
    "X_train, X_test, y_train, y_test = train_test_split(X, y, test_size = .2, random_state = 7)\n",
    "\n",
    "smote = SMOTE()\n",
    "X_train_s, y_train_s = smote.fit_sample(X_train, y_train)"
   ]
  },
  {
   "cell_type": "markdown",
   "metadata": {},
   "source": [
    "## Final Model"
   ]
  },
  {
   "cell_type": "code",
   "execution_count": 4,
   "metadata": {},
   "outputs": [
    {
     "name": "stdout",
     "output_type": "stream",
     "text": [
      "Recall:\n",
      "Train:\n",
      "0.8523562472978815\n",
      "Test:\n",
      "0.5691699604743083\n",
      " \n",
      "Accuracy:\n",
      "Train:\n",
      "0.8931500241196334\n",
      "Test:\n",
      "0.7725657427149965\n"
     ]
    }
   ],
   "source": [
    "rf = RandomForestClassifier(n_estimators=255, max_depth=10, max_features=5, random_state = 7)\n",
    "\n",
    "rf.fit(X_train_s, y_train_s)\n",
    "train_pred = rf.predict(X_train_s)\n",
    "print(\"Recall:\")\n",
    "print(\"Train:\")\n",
    "print(recall_score(train_pred, y_train_s))\n",
    "val_pred = rf.predict(X_test)\n",
    "print(\"Test:\")\n",
    "print(recall_score(val_pred, y_test))\n",
    "print(\" \")\n",
    "print(\"Accuracy:\")\n",
    "print(\"Train:\")\n",
    "print(rf.score(X_train_s, y_train_s))\n",
    "print(\"Test:\")\n",
    "print(rf.score(X_test, y_test))"
   ]
  },
  {
   "cell_type": "code",
   "execution_count": 5,
   "metadata": {},
   "outputs": [
    {
     "name": "stdout",
     "output_type": "stream",
     "text": [
      "[[799 218]\n",
      " [102 288]]\n"
     ]
    },
    {
     "data": {
      "text/plain": [
       "<AxesSubplot:>"
      ]
     },
     "execution_count": 5,
     "metadata": {},
     "output_type": "execute_result"
    },
    {
     "data": {
      "image/png": "[encoded data removed]",
      "text/plain": [
       "<Figure size 432x288 with 2 Axes>"
      ]
     },
     "metadata": {
      "needs_background": "light"
     },
     "output_type": "display_data"
    }
   ],
   "source": [
    "y_hat = rf.predict(X_test)\n",
    "cf_mat = confusion_matrix(y_test, y_hat)\n",
    "print(cf_mat)\n",
    "sns.heatmap(cf_mat, annot=True)"
   ]
  },
  {
   "cell_type": "markdown",
   "metadata": {},
   "source": [
    "I had originaly considered false negatives (incorrectly assessing a staying customer as one who will churn out) was the problem. It is nice that that number has improved, but now there are "
   ]
  }
 ],
 "metadata": {
  "kernelspec": {
   "display_name": "telco",
   "language": "python",
   "name": "telco"
  },
  "language_info": {
   "codemirror_mode": {
    "name": "ipython",
    "version": 3
   },
   "file_extension": ".py",
   "mimetype": "text/x-python",
   "name": "python",
   "nbconvert_exporter": "python",
   "pygments_lexer": "ipython3",
   "version": "3.8.5"
  }
 },
 "nbformat": 4,
 "nbformat_minor": 4
}
